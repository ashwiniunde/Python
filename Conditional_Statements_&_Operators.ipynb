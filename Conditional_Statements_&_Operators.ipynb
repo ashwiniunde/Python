{
 "cells": [
  {
   "cell_type": "code",
   "execution_count": 1,
   "id": "21df5849-9b96-405f-80ec-ffca68c9d7a8",
   "metadata": {},
   "outputs": [],
   "source": [
    "# Input in Python => input() statement is used to accept values from user."
   ]
  },
  {
   "cell_type": "code",
   "execution_count": 2,
   "id": "2deaf7df-188c-443b-865c-c639f6fd0973",
   "metadata": {},
   "outputs": [
    {
     "name": "stdin",
     "output_type": "stream",
     "text": [
      "Enter Name :: Alok\n"
     ]
    },
    {
     "name": "stdout",
     "output_type": "stream",
     "text": [
      "My Name is : Alok\n"
     ]
    }
   ],
   "source": [
    "# string input \n",
    "name = input(\"Enter Name ::\")\n",
    "print(\"My Name is :\",name)"
   ]
  },
  {
   "cell_type": "code",
   "execution_count": 3,
   "id": "c199dad3-3fb8-4ecd-bef5-d0d34bb37775",
   "metadata": {},
   "outputs": [
    {
     "name": "stdin",
     "output_type": "stream",
     "text": [
      "Enter Age :: 21\n"
     ]
    }
   ],
   "source": [
    "# int input\n",
    "age = int(input(\"Enter Age ::\"))"
   ]
  },
  {
   "cell_type": "code",
   "execution_count": 4,
   "id": "b9bfb845-42a0-40a8-b3e8-4baefcfaf3d5",
   "metadata": {},
   "outputs": [
    {
     "name": "stdin",
     "output_type": "stream",
     "text": [
      "Enter the Price : 15.55\n"
     ]
    }
   ],
   "source": [
    "# float input  \n",
    "price = float(input(\"Enter the Price :\"))"
   ]
  },
  {
   "cell_type": "code",
   "execution_count": 5,
   "id": "2942c056-1048-4e17-a688-0343ab09ea96",
   "metadata": {},
   "outputs": [
    {
     "name": "stdout",
     "output_type": "stream",
     "text": [
      "My Name is Alok and I am  21 years old.\n"
     ]
    }
   ],
   "source": [
    "print(\"My Name is\",name,\"and I am \",age,\"years old.\")"
   ]
  },
  {
   "cell_type": "markdown",
   "id": "5bebb242-17d5-4622-8897-6ac9685ad979",
   "metadata": {},
   "source": [
    "# Conditional Statements"
   ]
  },
  {
   "cell_type": "code",
   "execution_count": 21,
   "id": "3e570d1b-9eea-4356-9bfb-6ee2271666c3",
   "metadata": {},
   "outputs": [
    {
     "name": "stdin",
     "output_type": "stream",
     "text": [
      "Enter the Age : 12\n"
     ]
    },
    {
     "name": "stdout",
     "output_type": "stream",
     "text": [
      "Teenager !!\n"
     ]
    }
   ],
   "source": [
    "Age = int(input(\"Enter the Age :\"))\n",
    "if (Age<=10):\n",
    "    print(\"Child !!\")\n",
    "elif(Age<=18):\n",
    "    print(\"Teenager !!\")\n",
    "elif Age <= 35:\n",
    "    print(\"Young Adult !!\")\n",
    "elif Age <= 59:\n",
    "    print(\"Adult !!\")\n",
    "else:\n",
    "    print(\"Senior Citizen !!\")"
   ]
  },
  {
   "cell_type": "code",
   "execution_count": 17,
   "id": "d632568a-956c-4a9c-913d-086baeff35aa",
   "metadata": {},
   "outputs": [
    {
     "name": "stdin",
     "output_type": "stream",
     "text": [
      "Enter the color :: red\n"
     ]
    },
    {
     "name": "stdout",
     "output_type": "stream",
     "text": [
      "Stopp !!\n"
     ]
    }
   ],
   "source": [
    "light=input(\"Enter the color ::\")\n",
    "if(light == \"red\"):\n",
    "    print(\"Stopp !!\")\n",
    "elif(light == \"yellow\"):\n",
    "    print(\"Look !!\")\n",
    "elif(light == \"green\"):\n",
    "    print(\"Goo !!\")\n",
    "else:\n",
    "    print(\"Light is broken !!\")\n"
   ]
  },
  {
   "cell_type": "markdown",
   "id": "af855b93-90e4-49be-a32d-2e7766ff74b2",
   "metadata": {},
   "source": [
    "# Practice Questions"
   ]
  },
  {
   "cell_type": "code",
   "execution_count": 46,
   "id": "11955864-43ec-4f28-99ae-a2ec066d7852",
   "metadata": {},
   "outputs": [
    {
     "name": "stdin",
     "output_type": "stream",
     "text": [
      "Enter the Number : 5\n"
     ]
    },
    {
     "name": "stdout",
     "output_type": "stream",
     "text": [
      "Odd\n"
     ]
    }
   ],
   "source": [
    "# Write a program to check if a number entered by user is odd or even. \n",
    "num = int(input(\"Enter the Number :\"))\n",
    "if (num%2==0):\n",
    "    print(\"Even\")\n",
    "else:\n",
    "    print(\"Odd\")"
   ]
  },
  {
   "cell_type": "code",
   "execution_count": 55,
   "id": "e38c361c-1662-495c-9397-8b6f50fac556",
   "metadata": {},
   "outputs": [
    {
     "name": "stdin",
     "output_type": "stream",
     "text": [
      "Enter the Number 1: 23\n",
      "Enter the Number 2: 34\n",
      "Enter the Number 3: 23\n"
     ]
    },
    {
     "name": "stdout",
     "output_type": "stream",
     "text": [
      "Num 2 is greater\n"
     ]
    }
   ],
   "source": [
    "# Write a program to find greatest of 3 numbers entered by user.\n",
    "num1 = int(input(\"Enter the Number 1:\"))\n",
    "num2 = int(input(\"Enter the Number 2:\"))\n",
    "num3 = int(input(\"Enter the Number 3:\"))\n",
    "if(num1>num2 and num1>num3):\n",
    "    print(\"Num 1 is greater\")\n",
    "elif(num2>num3):\n",
    "    print(\"Num 2 is greater\")\n",
    "else:\n",
    "    print(\"Num 3 greater\")\n"
   ]
  },
  {
   "cell_type": "code",
   "execution_count": 63,
   "id": "6104c49a-0050-48c1-b4bf-c976c6749bb2",
   "metadata": {},
   "outputs": [
    {
     "name": "stdin",
     "output_type": "stream",
     "text": [
      "Enter the Number :: 33\n"
     ]
    },
    {
     "name": "stdout",
     "output_type": "stream",
     "text": [
      "Not multiple of 7\n"
     ]
    }
   ],
   "source": [
    "# Write a program to check if a number is multiple of 7 \n",
    "x = int(input(\"Enter the Number ::\"))\n",
    "\n",
    "if (x%7==0):\n",
    "    print(\"number is multiple of 7\")\n",
    "else:\n",
    "    print(\"Not multiple of 7\")\n"
   ]
  },
  {
   "cell_type": "code",
   "execution_count": 23,
   "id": "90fe6ee4-e56c-4530-9ed4-6ed32c73292b",
   "metadata": {},
   "outputs": [],
   "source": [
    "# Single Line Conditional Statements\n",
    "# single line if => Ternary"
   ]
  },
  {
   "cell_type": "code",
   "execution_count": 27,
   "id": "f95dcf26-05cf-4151-b995-f6f06b0c521c",
   "metadata": {},
   "outputs": [
    {
     "name": "stdin",
     "output_type": "stream",
     "text": [
      "Food :: apple\n"
     ]
    },
    {
     "data": {
      "text/plain": [
       "'No'"
      ]
     },
     "execution_count": 27,
     "metadata": {},
     "output_type": "execute_result"
    }
   ],
   "source": [
    "# <var> = <val1> if <condition> else<val2>\n",
    "food=input(\"Food ::\")\n",
    "eat = \"Yess\" if food==\"cake\" else \"No\"\n",
    "eat"
   ]
  },
  {
   "cell_type": "code",
   "execution_count": null,
   "id": "35845a62-531d-4794-a1ec-34790e7ceefb",
   "metadata": {},
   "outputs": [],
   "source": [
    "#  <str1> if <condition> else <str2>\n",
    "food=input(\"Food ::\")\n",
    "print(\"Sweet\") if food==\"cake\" or food == \"Jalebi\" else print(\"Not Sweet\")\n"
   ]
  },
  {
   "cell_type": "markdown",
   "id": "6f485318-284d-4462-87ca-c14a5ddcded4",
   "metadata": {},
   "source": [
    "# Types of operators in Python:"
   ]
  },
  {
   "cell_type": "code",
   "execution_count": 32,
   "id": "0590812a-a61b-4a72-aab2-f227b659a425",
   "metadata": {},
   "outputs": [
    {
     "name": "stdout",
     "output_type": "stream",
     "text": [
      "13\n",
      "7\n",
      "30\n",
      "3.3333333333333335\n",
      "3\n",
      "1\n",
      "1000\n"
     ]
    }
   ],
   "source": [
    "# 1. Arithmetic Operators\n",
    "# Used for basic math calculations.\n",
    "a = 10\n",
    "b = 3\n",
    "print(a + b)   # Addition → 13\n",
    "print(a - b)   # Subtraction → 7\n",
    "print(a * b)   # Multiplication → 30\n",
    "print(a / b)   # Division (float) → 3.333...\n",
    "print(a // b)  # Floor Division → 3\n",
    "print(a % b)   # Modulus (remainder) → 1\n",
    "print(a ** b)  # Exponentiation → 1000\n"
   ]
  },
  {
   "cell_type": "code",
   "execution_count": 33,
   "id": "ac6b4e92-94ba-4a06-a2d5-c41317173e05",
   "metadata": {},
   "outputs": [
    {
     "name": "stdout",
     "output_type": "stream",
     "text": [
      "False\n",
      "True\n",
      "False\n",
      "True\n",
      "False\n",
      "True\n"
     ]
    }
   ],
   "source": [
    "# 2. Relational (Comparison) Operators\n",
    "# Used to compare values (results in True/False)\n",
    "x, y = 5, 10\n",
    "print(x == y)  # Equal → False\n",
    "print(x != y)  # Not Equal → True\n",
    "print(x > y)   # Greater → False\n",
    "print(x < y)   # Less → True\n",
    "print(x >= y)  # Greater or Equal → False\n",
    "print(x <= y)  # Less or Equal → True\n"
   ]
  },
  {
   "cell_type": "code",
   "execution_count": 34,
   "id": "46365a84-c925-4854-94ae-dbd38954e036",
   "metadata": {},
   "outputs": [
    {
     "name": "stdout",
     "output_type": "stream",
     "text": [
      "False\n",
      "True\n",
      "False\n"
     ]
    }
   ],
   "source": [
    "# 3. Logical Operators\n",
    "# Used to combine conditions.\n",
    "p, q = True, False\n",
    "print(p and q)  # AND → False\n",
    "print(p or q)   # OR → True\n",
    "print(not p)    # NOT → False\n"
   ]
  },
  {
   "cell_type": "code",
   "execution_count": 36,
   "id": "2215d9af-52b1-401e-a46e-4843a99894ab",
   "metadata": {},
   "outputs": [],
   "source": [
    "# 4. Assignment Operators\n",
    "# Used to assign values with shorthand.\n",
    "a = 5\n",
    "a += 2   # a = a + 2 → 7\n",
    "a -= 2   # a = a - 2 → 5\n",
    "a *= 3   # a = a * 3 → 15\n",
    "a /= 3   # a = a / 3 → 5.0\n",
    "a %= 2   # a = a % 2 → 1.0\n",
    "a **= 2  # a = a ** 2 → 1.0\n"
   ]
  },
  {
   "cell_type": "code",
   "execution_count": 37,
   "id": "633da69c-3352-489e-af7e-c6d865b4e20e",
   "metadata": {},
   "outputs": [
    {
     "name": "stdout",
     "output_type": "stream",
     "text": [
      "True\n",
      "True\n"
     ]
    }
   ],
   "source": [
    "# 5.Membership Operators\n",
    "# Check if a value exists in a sequence.\n",
    "nums = [1, 2, 3, 4]\n",
    "print(2 in nums)      # True\n",
    "print(5 not in nums)  # True\n"
   ]
  },
  {
   "cell_type": "code",
   "execution_count": 38,
   "id": "172828cd-54b8-4ab8-8c4b-658e44de5663",
   "metadata": {},
   "outputs": [
    {
     "name": "stdout",
     "output_type": "stream",
     "text": [
      "False\n",
      "True\n"
     ]
    }
   ],
   "source": [
    "# 6. Identity Operators\n",
    "# Check if two variables point to the same object in memory.\n",
    "x = [1, 2]\n",
    "y = [1, 2]\n",
    "print(x is y)      # False (different memory location)\n",
    "print(x is not y)  # True\n"
   ]
  },
  {
   "cell_type": "code",
   "execution_count": 39,
   "id": "65fbeaed-0542-45e5-a8dd-cac98e8a0f0f",
   "metadata": {},
   "outputs": [],
   "source": [
    "# Type Casting in Python"
   ]
  },
  {
   "cell_type": "code",
   "execution_count": 40,
   "id": "63725af5-432a-4a57-93e9-bf4dc3dc4411",
   "metadata": {},
   "outputs": [],
   "source": [
    "# # 1. Implicit Type Casting (Type Conversion)\n",
    "# Done automatically by Python.\n",
    "# When you mix two different types in an expression, \n",
    "# Python converts the smaller type → larger type to avoid data loss."
   ]
  },
  {
   "cell_type": "code",
   "execution_count": 41,
   "id": "d104ddcb-c450-4f0f-978a-7b7f11eace30",
   "metadata": {},
   "outputs": [
    {
     "name": "stdout",
     "output_type": "stream",
     "text": [
      "13.5\n",
      "<class 'float'>\n"
     ]
    }
   ],
   "source": [
    "num_int = 10        # int\n",
    "num_float = 3.5     # float\n",
    "\n",
    "result = num_int + num_float  # int + float → float\n",
    "print(result)       # 13.5\n",
    "print(type(result)) # <class 'float'>\n"
   ]
  },
  {
   "cell_type": "code",
   "execution_count": null,
   "id": "bf7122e3-29a7-4b81-875e-eff3bc125823",
   "metadata": {},
   "outputs": [],
   "source": [
    "# 2. Explicit Type Casting (Type Conversion)\n",
    "#  Done manually by the programmer using functions like int(), float(), str(), etc."
   ]
  },
  {
   "cell_type": "code",
   "execution_count": 42,
   "id": "9b8abeea-c3c1-4200-8157-697b221bfac9",
   "metadata": {},
   "outputs": [
    {
     "name": "stdout",
     "output_type": "stream",
     "text": [
      "5.0\n",
      "9\n",
      "123\n",
      "56\n",
      "3.14\n",
      "(1, 2, 3)\n",
      "[4, 5, 6]\n"
     ]
    }
   ],
   "source": [
    "# int to float\n",
    "a = 5\n",
    "print(float(a))   # 5.0\n",
    "\n",
    "# float to int\n",
    "b = 9.8\n",
    "print(int(b))     # 9 (decimal part removed)\n",
    "\n",
    "# int to string\n",
    "c = 123\n",
    "print(str(c))     # \"123\"\n",
    "\n",
    "# string to int\n",
    "d = \"56\"\n",
    "print(int(d))     # 56\n",
    "\n",
    "# string to float\n",
    "e = \"3.14\"\n",
    "print(float(e))   # 3.14\n",
    "\n",
    "# list to tuple\n",
    "lst = [1, 2, 3]\n",
    "print(tuple(lst))  # (1, 2, 3)\n",
    "\n",
    "# tuple to list\n",
    "tup = (4, 5, 6)\n",
    "print(list(tup))   # [4, 5, 6]\n"
   ]
  },
  {
   "cell_type": "code",
   "execution_count": null,
   "id": "3c6007ad-83e2-4155-867d-31fb94b3cc3c",
   "metadata": {},
   "outputs": [],
   "source": []
  }
 ],
 "metadata": {
  "kernelspec": {
   "display_name": "Python 3 (ipykernel)",
   "language": "python",
   "name": "python3"
  },
  "language_info": {
   "codemirror_mode": {
    "name": "ipython",
    "version": 3
   },
   "file_extension": ".py",
   "mimetype": "text/x-python",
   "name": "python",
   "nbconvert_exporter": "python",
   "pygments_lexer": "ipython3",
   "version": "3.11.7"
  }
 },
 "nbformat": 4,
 "nbformat_minor": 5
}
