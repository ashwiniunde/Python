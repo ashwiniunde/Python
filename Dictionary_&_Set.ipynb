{
 "cells": [
  {
   "cell_type": "markdown",
   "id": "ff300e5e-0e43-4da2-9da4-ced3851558ed",
   "metadata": {},
   "source": [
    "# Dictionary & Set"
   ]
  },
  {
   "cell_type": "markdown",
   "id": "abe3824a-aa07-45a6-9770-8bf1ef4156bc",
   "metadata": {},
   "source": [
    "# Dictionary\n",
    "It is used to store data values in key:value pairs.\n",
    "They are unordered,mutable & do not allow duplicate keys."
   ]
  },
  {
   "cell_type": "code",
   "execution_count": 4,
   "id": "5739ea4a-d8b7-42b0-9a77-5e761e670158",
   "metadata": {},
   "outputs": [],
   "source": [
    "dict={\n",
    "    \"Name\":\"Ashwini\", \n",
    "    \"Roll No\":2,\n",
    "    \"Marks\":20\n",
    "}"
   ]
  },
  {
   "cell_type": "code",
   "execution_count": 5,
   "id": "73dca5fd-f5ed-40e9-8168-e7201c33a977",
   "metadata": {},
   "outputs": [
    {
     "data": {
      "text/plain": [
       "{'Name': 'Ashwini', 'Roll No': 2, 'Marks': 20}"
      ]
     },
     "execution_count": 5,
     "metadata": {},
     "output_type": "execute_result"
    }
   ],
   "source": [
    "dict"
   ]
  },
  {
   "cell_type": "code",
   "execution_count": 6,
   "id": "7e48b7cb-730a-401a-92b2-5fdd4162fc61",
   "metadata": {},
   "outputs": [],
   "source": [
    "info={\n",
    "    \"name\":\"Ashwini\",\n",
    "    \"subject\":[\"Python\",\"c++\",\"C\"], \n",
    "    \"Age\":21\n",
    "    \n",
    "}"
   ]
  },
  {
   "cell_type": "code",
   "execution_count": 7,
   "id": "f3e57df5-0a9e-4bb1-a316-cadf5d47b048",
   "metadata": {},
   "outputs": [
    {
     "data": {
      "text/plain": [
       "{'name': 'Ashwini', 'subject': ['Python', 'c++', 'C'], 'Age': 21}"
      ]
     },
     "execution_count": 7,
     "metadata": {},
     "output_type": "execute_result"
    }
   ],
   "source": [
    "info"
   ]
  },
  {
   "cell_type": "code",
   "execution_count": null,
   "id": "04dda790-0e8b-46e2-b7da-c80771034ba4",
   "metadata": {},
   "outputs": [],
   "source": []
  },
  {
   "cell_type": "code",
   "execution_count": 8,
   "id": "b4af1804-a300-4857-9fb7-19f597f61a7c",
   "metadata": {},
   "outputs": [
    {
     "name": "stdout",
     "output_type": "stream",
     "text": [
      "<class 'dict'>\n"
     ]
    }
   ],
   "source": [
    "print(type(info))"
   ]
  },
  {
   "cell_type": "code",
   "execution_count": 12,
   "id": "cf019cba-879e-4a40-a85e-ae645011008a",
   "metadata": {},
   "outputs": [
    {
     "name": "stdout",
     "output_type": "stream",
     "text": [
      "Ashwini\n"
     ]
    }
   ],
   "source": [
    "print(info[\"name\"])"
   ]
  },
  {
   "cell_type": "code",
   "execution_count": 13,
   "id": "b9315bcd-b74a-4f15-9d66-5cc2ff4bcc70",
   "metadata": {},
   "outputs": [
    {
     "name": "stdout",
     "output_type": "stream",
     "text": [
      "['Python', 'c++', 'C']\n"
     ]
    }
   ],
   "source": [
    "print(info[\"subject\"])"
   ]
  },
  {
   "cell_type": "code",
   "execution_count": 14,
   "id": "f3a09a74-8738-4128-be4d-b9816da2e194",
   "metadata": {},
   "outputs": [],
   "source": [
    "info[\"name\"]=\"Alok\""
   ]
  },
  {
   "cell_type": "code",
   "execution_count": 15,
   "id": "b5191130-819f-4be8-8cec-eb2e84c8cd6e",
   "metadata": {},
   "outputs": [
    {
     "data": {
      "text/plain": [
       "{'name': 'Alok', 'subject': ['Python', 'c++', 'C'], 'Age': 21}"
      ]
     },
     "execution_count": 15,
     "metadata": {},
     "output_type": "execute_result"
    }
   ],
   "source": [
    "info"
   ]
  },
  {
   "cell_type": "code",
   "execution_count": 18,
   "id": "4ec81701-af00-4ebb-b26b-55fb56dc5e2a",
   "metadata": {},
   "outputs": [],
   "source": [
    "# Adding key value \n",
    "info[\"surname\"]=\"Unde\"\n"
   ]
  },
  {
   "cell_type": "code",
   "execution_count": 19,
   "id": "8a4b94d5-8bf1-4e97-8367-7120f08ef2fc",
   "metadata": {},
   "outputs": [
    {
     "data": {
      "text/plain": [
       "{'name': 'Alok',\n",
       " 'subject': ['Python', 'c++', 'C'],\n",
       " 'Age': 21,\n",
       " 'surname': 'Unde'}"
      ]
     },
     "execution_count": 19,
     "metadata": {},
     "output_type": "execute_result"
    }
   ],
   "source": [
    "info"
   ]
  },
  {
   "cell_type": "code",
   "execution_count": 20,
   "id": "c7dbe090-c4d3-4b56-881c-1eb79f3d396c",
   "metadata": {},
   "outputs": [],
   "source": [
    "null_dict ={}"
   ]
  },
  {
   "cell_type": "code",
   "execution_count": 21,
   "id": "ac8de165-f4cd-49d7-97e0-69890bd615da",
   "metadata": {},
   "outputs": [
    {
     "data": {
      "text/plain": [
       "{}"
      ]
     },
     "execution_count": 21,
     "metadata": {},
     "output_type": "execute_result"
    }
   ],
   "source": [
    "null_dict"
   ]
  },
  {
   "cell_type": "code",
   "execution_count": 22,
   "id": "55be61e8-8def-4653-ab64-1e5dbf1c8110",
   "metadata": {},
   "outputs": [
    {
     "name": "stdout",
     "output_type": "stream",
     "text": [
      "<class 'dict'>\n"
     ]
    }
   ],
   "source": [
    "print(type(null_dict))"
   ]
  },
  {
   "cell_type": "code",
   "execution_count": 23,
   "id": "e590269f-9041-4ff9-a933-1282d7f0bf63",
   "metadata": {},
   "outputs": [
    {
     "name": "stdout",
     "output_type": "stream",
     "text": [
      "dict_keys(['name', 'age', 'lang'])\n",
      "dict_values(['Ashwini', 21, 'Japanese'])\n",
      "dict_items([('name', 'Ashwini'), ('age', 21), ('lang', 'Japanese')])\n"
     ]
    }
   ],
   "source": [
    "# Methods\n",
    "student = {\"name\": \"Ashwini\", \"age\": 21, \"lang\": \"Japanese\"}\n",
    "\n",
    "print(student.keys())    # dict_keys(['name', 'age', 'lang'])\n",
    "print(student.values())  # dict_values(['Ashwini', 21, 'Japanese'])\n",
    "print(student.items())   # dict_items([('name','Ashwini'), ('age',21), ('lang','Japanese')])\n"
   ]
  },
  {
   "cell_type": "code",
   "execution_count": 24,
   "id": "710cf8f6-1107-4472-9703-ccdfe944082e",
   "metadata": {},
   "outputs": [
    {
     "name": "stdout",
     "output_type": "stream",
     "text": [
      "name : Ashwini\n",
      "age : 21\n",
      "lang : Japanese\n"
     ]
    }
   ],
   "source": [
    "for key in student:\n",
    "    print(key, \":\", student[key])\n"
   ]
  },
  {
   "cell_type": "code",
   "execution_count": 25,
   "id": "711f1cee-26a7-4339-b011-235e2a1e15c1",
   "metadata": {},
   "outputs": [],
   "source": [
    "# Nested Dictionar"
   ]
  },
  {
   "cell_type": "code",
   "execution_count": 26,
   "id": "62698252-8e49-4e9c-8b65-80df10cc22fc",
   "metadata": {},
   "outputs": [
    {
     "name": "stdout",
     "output_type": "stream",
     "text": [
      "Ashwini\n"
     ]
    }
   ],
   "source": [
    "students = {\n",
    "    \"s1\": {\"name\": \"Ashwini\", \"age\": 21},\n",
    "    \"s2\": {\"name\": \"Yuki\", \"age\": 22}\n",
    "}\n",
    "\n",
    "print(students[\"s1\"][\"name\"])  # Ashwini\n"
   ]
  },
  {
   "cell_type": "code",
   "execution_count": 28,
   "id": "310f4ccf-5aa1-4e72-bb5f-c88bcc74dc12",
   "metadata": {},
   "outputs": [
    {
     "name": "stdout",
     "output_type": "stream",
     "text": [
      "['name', 'age', 'lang']\n"
     ]
    }
   ],
   "source": [
    "print(list(student.keys()))"
   ]
  },
  {
   "cell_type": "code",
   "execution_count": 30,
   "id": "9fddb945-8938-4aef-bf7f-a0feeeb57221",
   "metadata": {},
   "outputs": [
    {
     "name": "stdout",
     "output_type": "stream",
     "text": [
      "3\n"
     ]
    }
   ],
   "source": [
    "print(len(list(student.keys())))"
   ]
  },
  {
   "cell_type": "code",
   "execution_count": 32,
   "id": "fc42fb7e-241d-4594-94ff-7da482f89eaf",
   "metadata": {},
   "outputs": [
    {
     "name": "stdout",
     "output_type": "stream",
     "text": [
      "{'name': 'Ashwini', 'age': 21}\n"
     ]
    }
   ],
   "source": [
    "print(students.get(\"s1\"))"
   ]
  },
  {
   "cell_type": "code",
   "execution_count": null,
   "id": "e35892d1-3ae6-4774-8635-43c5d5741ea2",
   "metadata": {},
   "outputs": [],
   "source": [
    "# Sget \n",
    "A set is an unordered collection of unique elements.\n",
    "Defined using { } or set().\n",
    "No duplicates allowed.\n",
    "Unordered & unindexed → can’t access elements by index like lists/tuples."
   ]
  },
  {
   "cell_type": "code",
   "execution_count": 3,
   "id": "465d3027-189f-470e-a567-47e712520e48",
   "metadata": {},
   "outputs": [
    {
     "name": "stdout",
     "output_type": "stream",
     "text": [
      "{1, 2, 3, 4}\n",
      "{3.14, 1, 'Ashwini'}\n"
     ]
    }
   ],
   "source": [
    "# Empty set\n",
    "s1 = set()\n",
    "\n",
    "# With values\n",
    "s2 = {1, 2, 3, 4, 4, 2}\n",
    "print(s2)  # {1, 2, 3, 4} → duplicates removed\n",
    "\n",
    "# Mixed data types\n",
    "s3 = {1, \"Ashwini\", 3.14, True}\n",
    "print(s3)\n"
   ]
  },
  {
   "cell_type": "code",
   "execution_count": 11,
   "id": "96260946-0908-4883-afa3-d00eedf2918c",
   "metadata": {},
   "outputs": [
    {
     "data": {
      "text/plain": [
       "{'apple', 'banana', 'mango'}"
      ]
     },
     "execution_count": 11,
     "metadata": {},
     "output_type": "execute_result"
    }
   ],
   "source": [
    "fruits = {\"apple\", \"banana\"}\n",
    "fruits.add(\"mango\")         # add single element\n",
    "fruits"
   ]
  },
  {
   "cell_type": "code",
   "execution_count": 12,
   "id": "054c79c6-afe7-4b34-b5ff-a00a2c76ef47",
   "metadata": {},
   "outputs": [
    {
     "name": "stdout",
     "output_type": "stream",
     "text": [
      "{'mango', 'grapes', 'orange', 'banana', 'apple'}\n"
     ]
    }
   ],
   "source": [
    "fruits.update([\"orange\", \"grapes\"])  # add multiple\n",
    "print(fruits)"
   ]
  },
  {
   "cell_type": "code",
   "execution_count": 13,
   "id": "b05ed951-c544-4d37-95df-25f1fb4b9b3e",
   "metadata": {},
   "outputs": [],
   "source": [
    "\n",
    "fruits.remove(\"banana\")     # remove (error if not found)\n",
    "fruits.discard(\"kiwi\")   # remove safely (no error if missing)"
   ]
  },
  {
   "cell_type": "code",
   "execution_count": 14,
   "id": "283a6132-d3da-4e91-9432-b25ac7f187c9",
   "metadata": {},
   "outputs": [
    {
     "data": {
      "text/plain": [
       "{'apple', 'grapes', 'mango', 'orange'}"
      ]
     },
     "execution_count": 14,
     "metadata": {},
     "output_type": "execute_result"
    }
   ],
   "source": [
    "fruits"
   ]
  },
  {
   "cell_type": "code",
   "execution_count": 15,
   "id": "6175b685-588a-4dd1-9ab7-d68edde7078f",
   "metadata": {},
   "outputs": [
    {
     "data": {
      "text/plain": [
       "'mango'"
      ]
     },
     "execution_count": 15,
     "metadata": {},
     "output_type": "execute_result"
    }
   ],
   "source": [
    "fruits.pop()                # removes a random element"
   ]
  },
  {
   "cell_type": "code",
   "execution_count": 16,
   "id": "82d31db8-8c91-45b9-bba7-05642c337b1a",
   "metadata": {},
   "outputs": [],
   "source": [
    "fruits.clear()              # empty set"
   ]
  },
  {
   "cell_type": "code",
   "execution_count": 17,
   "id": "3cf0b23b-c11d-4f2d-8fdd-4f01ba98233d",
   "metadata": {},
   "outputs": [
    {
     "data": {
      "text/plain": [
       "set()"
      ]
     },
     "execution_count": 17,
     "metadata": {},
     "output_type": "execute_result"
    }
   ],
   "source": [
    "fruits"
   ]
  },
  {
   "cell_type": "code",
   "execution_count": 18,
   "id": "b2aa2479-e43a-483b-81b5-752b55249054",
   "metadata": {},
   "outputs": [],
   "source": [
    "# Set Operations"
   ]
  },
  {
   "cell_type": "code",
   "execution_count": 19,
   "id": "1fee9e8a-470d-4d35-a830-052c8633faa8",
   "metadata": {},
   "outputs": [
    {
     "name": "stdout",
     "output_type": "stream",
     "text": [
      "{1, 2, 3, 4, 5, 6}\n",
      "{3, 4}\n"
     ]
    }
   ],
   "source": [
    "a={1,2,3,4}\n",
    "b={3,4,5,6}\n",
    "print(a.union(b))\n",
    "print(a.intersection(b))"
   ]
  },
  {
   "cell_type": "code",
   "execution_count": 20,
   "id": "97591f22-65e5-4df9-87e9-5d216a11655a",
   "metadata": {},
   "outputs": [
    {
     "name": "stdout",
     "output_type": "stream",
     "text": [
      "{1, 2}\n"
     ]
    }
   ],
   "source": [
    "print(a.difference(b))"
   ]
  },
  {
   "cell_type": "code",
   "execution_count": 21,
   "id": "4e14d2b3-106a-42dc-8795-06f7668431aa",
   "metadata": {},
   "outputs": [
    {
     "name": "stdout",
     "output_type": "stream",
     "text": [
      "{5, 6}\n"
     ]
    }
   ],
   "source": [
    "print(b.difference(a))"
   ]
  },
  {
   "cell_type": "code",
   "execution_count": 22,
   "id": "e896009d-2c98-43c1-902e-9defa45662ec",
   "metadata": {},
   "outputs": [
    {
     "name": "stdout",
     "output_type": "stream",
     "text": [
      "{1, 2, 5, 6}\n"
     ]
    }
   ],
   "source": [
    "print(a.symmetric_difference(b))  # {1,2,5,6}"
   ]
  },
  {
   "cell_type": "code",
   "execution_count": 23,
   "id": "213146b1-8aef-4970-9ca5-41aa9d0958b8",
   "metadata": {},
   "outputs": [],
   "source": [
    "# Useful Methods"
   ]
  },
  {
   "cell_type": "code",
   "execution_count": 24,
   "id": "4950bd5c-9e75-4a8a-83c1-48a3c6417faf",
   "metadata": {},
   "outputs": [
    {
     "name": "stdout",
     "output_type": "stream",
     "text": [
      "3\n",
      "True\n",
      "True\n"
     ]
    }
   ],
   "source": [
    "nums = {1, 2, 3}\n",
    "print(len(nums))      # 3\n",
    "print(2 in nums)      # True\n",
    "print(5 not in nums)  # True\n"
   ]
  },
  {
   "cell_type": "code",
   "execution_count": 26,
   "id": "c0212dda-3827-41af-b9ce-89df7a8210ae",
   "metadata": {},
   "outputs": [],
   "source": [
    "#Q1. Store the following word meanings in a python dictionary.\n",
    "dict ={\n",
    "    \"cat\":\"A small Animal\",\n",
    "    \"table\":[\"A piece of furniture\",\"List of Fact & figures\"]\n",
    "}"
   ]
  },
  {
   "cell_type": "code",
   "execution_count": 27,
   "id": "4c3f1892-2a57-4c9c-9888-e783c2c6496e",
   "metadata": {},
   "outputs": [
    {
     "data": {
      "text/plain": [
       "{'cat': 'A small Animal',\n",
       " 'table': ['A piece of furniture', 'List of Fact & figures']}"
      ]
     },
     "execution_count": 27,
     "metadata": {},
     "output_type": "execute_result"
    }
   ],
   "source": [
    "dict"
   ]
  },
  {
   "cell_type": "raw",
   "id": "e543c0c6-1327-44e5-a890-8e219303f820",
   "metadata": {},
   "source": [
    "Q2. Your are given a list of subjects for students.\n",
    "  Assume one classroom is required for 1 subject.\n",
    "  How  many classroom are needed by all students.\n",
    "\"Python\",\"java\",\"c++\",\"Python\",\"javascript\",\"java\",\"Python\",\"java\",\"c++\",\"C\""
   ]
  },
  {
   "cell_type": "code",
   "execution_count": 31,
   "id": "e6b239a8-428a-4e39-b8f3-214479a6ea73",
   "metadata": {},
   "outputs": [],
   "source": [
    "subjects={\"Python\",\"java\",\"c++\",\"Python\",\"javascript\",\"java\",\"Python\",\"java\",\"c++\",\"C\"}"
   ]
  },
  {
   "cell_type": "code",
   "execution_count": 32,
   "id": "c7834fb1-88a3-4c7d-a3f4-d15fed9d91a7",
   "metadata": {},
   "outputs": [
    {
     "data": {
      "text/plain": [
       "{'C', 'Python', 'c++', 'java', 'javascript'}"
      ]
     },
     "execution_count": 32,
     "metadata": {},
     "output_type": "execute_result"
    }
   ],
   "source": [
    "subjects"
   ]
  },
  {
   "cell_type": "code",
   "execution_count": 33,
   "id": "6001dbdc-cc47-441f-b5c2-7d1c1b0a9c61",
   "metadata": {},
   "outputs": [
    {
     "name": "stdout",
     "output_type": "stream",
     "text": [
      "5\n"
     ]
    }
   ],
   "source": [
    "print(len(subjects))"
   ]
  },
  {
   "cell_type": "code",
   "execution_count": 34,
   "id": "4829ecee-416f-421d-9259-cbf83f49feaa",
   "metadata": {},
   "outputs": [],
   "source": [
    "# Q3"
   ]
  },
  {
   "cell_type": "code",
   "execution_count": 39,
   "id": "ac3bb614-57f3-4262-a1b6-59a587f73cb2",
   "metadata": {},
   "outputs": [
    {
     "name": "stdin",
     "output_type": "stream",
     "text": [
      "Enter the Marks of phy:: 90\n",
      "Enter the Marks of math:: 89\n",
      "Enter the Marks of chem:: 79\n"
     ]
    }
   ],
   "source": [
    "marks={}\n",
    "x= float(input(\"Enter the Marks of phy::\"))\n",
    "marks.update({\"Phy\":x})\n",
    "x= float(input(\"Enter the Marks of math::\"))\n",
    "marks.update({\"math\":x})\n",
    "x= float(input(\"Enter the Marks of chem::\"))\n",
    "marks.update({\"chem \":x})\n"
   ]
  },
  {
   "cell_type": "code",
   "execution_count": 40,
   "id": "6788caa2-126d-4ad9-9f63-7200e53848f3",
   "metadata": {},
   "outputs": [
    {
     "data": {
      "text/plain": [
       "{'Phy': 90.0, 'math': 89.0, 'chem ': 79.0}"
      ]
     },
     "execution_count": 40,
     "metadata": {},
     "output_type": "execute_result"
    }
   ],
   "source": [
    "marks"
   ]
  },
  {
   "cell_type": "code",
   "execution_count": null,
   "id": "1f54f8a8-196b-49f7-9947-0ea1beae0583",
   "metadata": {},
   "outputs": [],
   "source": []
  }
 ],
 "metadata": {
  "kernelspec": {
   "display_name": "Python 3 (ipykernel)",
   "language": "python",
   "name": "python3"
  },
  "language_info": {
   "codemirror_mode": {
    "name": "ipython",
    "version": 3
   },
   "file_extension": ".py",
   "mimetype": "text/x-python",
   "name": "python",
   "nbconvert_exporter": "python",
   "pygments_lexer": "ipython3",
   "version": "3.11.7"
  }
 },
 "nbformat": 4,
 "nbformat_minor": 5
}
