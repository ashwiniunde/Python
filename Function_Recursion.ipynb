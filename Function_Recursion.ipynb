{
 "cells": [
  {
   "cell_type": "markdown",
   "id": "82aa86ec-9296-4513-bfe6-ef9c768b9f47",
   "metadata": {},
   "source": [
    "# Function in Python"
   ]
  },
  {
   "cell_type": "raw",
   "id": "566533dc-1fe5-4e07-8025-6764414cc704",
   "metadata": {},
   "source": [
    "# Function is Block of statements that perform a specific task.\n",
    "\n",
    "def fun_name(para1,para2....): \n",
    "    return val\n",
    "fun_name(arg1,arg2...)"
   ]
  },
  {
   "cell_type": "code",
   "execution_count": 2,
   "id": "983570b8-ccfd-4959-8441-dcba745c0181",
   "metadata": {},
   "outputs": [
    {
     "data": {
      "text/plain": [
       "4"
      ]
     },
     "execution_count": 2,
     "metadata": {},
     "output_type": "execute_result"
    }
   ],
   "source": [
    "def sum(a,b):\n",
    "    return(a+b)\n",
    "\n",
    "sum(2,2)"
   ]
  },
  {
   "cell_type": "code",
   "execution_count": 3,
   "id": "a21a706f-8950-48b8-b7bb-87a6e83e27c8",
   "metadata": {},
   "outputs": [
    {
     "name": "stdout",
     "output_type": "stream",
     "text": [
      "6\n"
     ]
    }
   ],
   "source": [
    "def cal_product(a,b):\n",
    "    print(a*b)\n",
    "\n",
    "cal_product(2,3)"
   ]
  },
  {
   "cell_type": "code",
   "execution_count": 5,
   "id": "82f6b8ac-950c-40e2-9832-ab695b5b4cd6",
   "metadata": {},
   "outputs": [
    {
     "data": {
      "text/plain": [
       "6"
      ]
     },
     "execution_count": 5,
     "metadata": {},
     "output_type": "execute_result"
    }
   ],
   "source": [
    "def cal_product(a,b):\n",
    "    return(a*b)\n",
    "\n",
    "cal_product(2,3)"
   ]
  },
  {
   "cell_type": "code",
   "execution_count": 7,
   "id": "3466e5ef-c1c1-415b-ba58-f885fb30afae",
   "metadata": {},
   "outputs": [
    {
     "name": "stdout",
     "output_type": "stream",
     "text": [
      "8\n"
     ]
    }
   ],
   "source": [
    "# Default parameter\n",
    "def cal_product(a=2,b=4):\n",
    "    print(a*b)\n",
    "\n",
    "cal_product()"
   ]
  },
  {
   "cell_type": "code",
   "execution_count": 12,
   "id": "12f44288-bda0-4301-bff9-07656d19e8af",
   "metadata": {},
   "outputs": [
    {
     "name": "stdout",
     "output_type": "stream",
     "text": [
      "7\n",
      "3\n"
     ]
    }
   ],
   "source": [
    "# Write a function  to print the lenght of a list. \n",
    "nums= [1,4,6,7,89,5,7]\n",
    "name=[\"abc\",\"xyz\",\"pqr\"]\n",
    "def printlen(num):\n",
    "    print(len(num))\n",
    "printlen(nums)\n",
    "printlen(name)"
   ]
  },
  {
   "cell_type": "code",
   "execution_count": 13,
   "id": "802c281f-de9d-4759-846b-dcd32bc27c66",
   "metadata": {},
   "outputs": [
    {
     "name": "stdout",
     "output_type": "stream",
     "text": [
      "1 4 6 7 89 5 7 "
     ]
    }
   ],
   "source": [
    "# Write a function to print elements of  list in a sinlge line?\n",
    "nums= [1,4,6,7,89,5,7]\n",
    "def singleline(num):\n",
    "    for i in num: \n",
    "        print(i,end=\" \")\n",
    "\n",
    "singleline(nums)\n",
    "    "
   ]
  },
  {
   "cell_type": "code",
   "execution_count": 23,
   "id": "7628d046-5e62-410b-b55d-4fe5d360a60a",
   "metadata": {},
   "outputs": [
    {
     "name": "stdin",
     "output_type": "stream",
     "text": [
      "Enter the Number:: 6\n"
     ]
    },
    {
     "name": "stdout",
     "output_type": "stream",
     "text": [
      "720\n"
     ]
    }
   ],
   "source": [
    "# Write a function to find factorial of number.\n",
    "n=int(input(\"Enter the Number::\"))\n",
    "def fact(a):\n",
    "    fact=1\n",
    "    for i in range(1,n+1):\n",
    "        fact=fact*i\n",
    "    print(fact)\n",
    "fact(n)\n"
   ]
  },
  {
   "cell_type": "code",
   "execution_count": 27,
   "id": "19f53e02-ed40-4255-8fc9-a04c3a59d364",
   "metadata": {},
   "outputs": [
    {
     "name": "stdout",
     "output_type": "stream",
     "text": [
      "5 USD = 440 INR\n"
     ]
    }
   ],
   "source": [
    "# USD to INR converter\n",
    "def converter(usd_val): \n",
    "    inr_val = usd_val*88\n",
    "    print(usd_val ,\"USD =\",inr_val ,\"INR\")\n",
    "\n",
    "converter(5)"
   ]
  },
  {
   "cell_type": "code",
   "execution_count": 28,
   "id": "8844c58b-f8fb-4ba9-bd12-ebb4ae3797fa",
   "metadata": {},
   "outputs": [
    {
     "name": "stdout",
     "output_type": "stream",
     "text": [
      "Even\n",
      "Odd\n",
      "Even\n",
      "Odd\n",
      "Even\n"
     ]
    }
   ],
   "source": [
    "def oddevne(n):\n",
    "    for i in range(n):\n",
    "        if (i%2==0):\n",
    "            print(\"Even\")\n",
    "        else:\n",
    "            print(\"Odd\")\n",
    "\n",
    "oddevne(5)"
   ]
  },
  {
   "cell_type": "code",
   "execution_count": 31,
   "id": "31509e89-bb7a-48c1-a0af-071790985d0e",
   "metadata": {},
   "outputs": [
    {
     "name": "stdout",
     "output_type": "stream",
     "text": [
      "Even\n"
     ]
    }
   ],
   "source": [
    "def oddevne(n):\n",
    "        if (n%2==0):\n",
    "            print(\"Even\")\n",
    "        else:\n",
    "            print(\"Odd\")\n",
    "\n",
    "oddevne(8)"
   ]
  },
  {
   "cell_type": "code",
   "execution_count": 32,
   "id": "92dd1437-5d21-4695-8460-719d8cd5c95b",
   "metadata": {},
   "outputs": [],
   "source": [
    "# Recursion =when a function calls itself repeatedly."
   ]
  },
  {
   "cell_type": "code",
   "execution_count": 41,
   "id": "2444ae3d-ab6f-42a6-8ee0-0787e906c7d3",
   "metadata": {},
   "outputs": [
    {
     "name": "stdout",
     "output_type": "stream",
     "text": [
      "4\n",
      "3\n",
      "2\n",
      "1\n"
     ]
    }
   ],
   "source": [
    "def show(n):\n",
    "    if(n==0): \n",
    "        return \n",
    "    print(n)\n",
    "    show(n-1)\n",
    "\n",
    "show(4)"
   ]
  },
  {
   "cell_type": "code",
   "execution_count": 44,
   "id": "f3d992f5-8106-441c-81de-88f98891317f",
   "metadata": {},
   "outputs": [
    {
     "data": {
      "text/plain": [
       "120"
      ]
     },
     "execution_count": 44,
     "metadata": {},
     "output_type": "execute_result"
    }
   ],
   "source": [
    "def fact(n):\n",
    "    if(n==0 or n==1):\n",
    "        return 1\n",
    "    else:\n",
    "        return n*fact(n-1)\n",
    "fact(5)"
   ]
  },
  {
   "cell_type": "code",
   "execution_count": 52,
   "id": "8caf284d-bc5f-426f-b317-9c2b20660fb4",
   "metadata": {},
   "outputs": [
    {
     "data": {
      "text/plain": [
       "15"
      ]
     },
     "execution_count": 52,
     "metadata": {},
     "output_type": "execute_result"
    }
   ],
   "source": [
    "# Q. Write a recursive function to calculate the sum of first n natural number.\n",
    "def sum_natural(n):\n",
    "    if (n==0):\n",
    "        return 0\n",
    "    else:\n",
    "        return n+sum(n-1)\n",
    "\n",
    "sum_natural(5)"
   ]
  },
  {
   "cell_type": "code",
   "execution_count": 58,
   "id": "88bf296c-6821-4d16-a1da-42de69669b34",
   "metadata": {},
   "outputs": [
    {
     "name": "stdout",
     "output_type": "stream",
     "text": [
      "1\n",
      "2\n",
      "3\n",
      "4\n",
      "5\n",
      "7\n"
     ]
    }
   ],
   "source": [
    "# Write arecusive function to print all elements in a list. \n",
    "# hinnt: use list and index as parameter\n",
    "\n",
    "def print_list(list,idx):\n",
    "    if(idx == len(list)):\n",
    "        return\n",
    "    print(list[idx])\n",
    "    print_list(list,idx+1)\n",
    "print_list([1,2,3,4,5,7],0)    "
   ]
  },
  {
   "cell_type": "code",
   "execution_count": null,
   "id": "16890faa-3ca2-49b5-aa4f-59ed76386f90",
   "metadata": {},
   "outputs": [],
   "source": []
  }
 ],
 "metadata": {
  "kernelspec": {
   "display_name": "Python 3 (ipykernel)",
   "language": "python",
   "name": "python3"
  },
  "language_info": {
   "codemirror_mode": {
    "name": "ipython",
    "version": 3
   },
   "file_extension": ".py",
   "mimetype": "text/x-python",
   "name": "python",
   "nbconvert_exporter": "python",
   "pygments_lexer": "ipython3",
   "version": "3.11.7"
  }
 },
 "nbformat": 4,
 "nbformat_minor": 5
}
