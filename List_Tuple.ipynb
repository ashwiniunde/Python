{
 "cells": [
  {
   "cell_type": "markdown",
   "id": "abbc4086-0770-41d7-9154-211ca9bb5f31",
   "metadata": {},
   "source": [
    "# List & Tuple"
   ]
  },
  {
   "cell_type": "markdown",
   "id": "de8e24cc-72da-49a4-96da-b19ec0d7e4d6",
   "metadata": {},
   "source": [
    "# List In Python\n",
    "A list is an ordered, mutable collection of items.\n",
    "Can contain elements of different data types (int, str, float, etc.).\n",
    "Defined using square brackets [ ]."
   ]
  },
  {
   "cell_type": "code",
   "execution_count": 1,
   "id": "9322c143-37c3-4d8b-ac5c-eb03128a08d8",
   "metadata": {},
   "outputs": [],
   "source": [
    "# Examples\n",
    "numbers = [10, 20, 30, 40]\n",
    "marks = [94.4,87.5,95.2,66.8,89.25]\n",
    "fruits = [\"apple\", \"banana\", \"mango\"]\n",
    "mixed = [1, \"hello\", 3.14, True]\n",
    "empty_list = []\n"
   ]
  },
  {
   "cell_type": "code",
   "execution_count": 2,
   "id": "a8798906-6701-4566-8a9a-4027977b99e6",
   "metadata": {},
   "outputs": [
    {
     "data": {
      "text/plain": [
       "[10, 20, 30, 40]"
      ]
     },
     "execution_count": 2,
     "metadata": {},
     "output_type": "execute_result"
    }
   ],
   "source": [
    "numbers"
   ]
  },
  {
   "cell_type": "code",
   "execution_count": 3,
   "id": "95672fd1-7add-403d-832d-0b5b40233723",
   "metadata": {},
   "outputs": [
    {
     "data": {
      "text/plain": [
       "10"
      ]
     },
     "execution_count": 3,
     "metadata": {},
     "output_type": "execute_result"
    }
   ],
   "source": [
    "numbers[0]"
   ]
  },
  {
   "cell_type": "code",
   "execution_count": 4,
   "id": "647b4e28-3c90-4f25-9cb2-451e8b77acc9",
   "metadata": {},
   "outputs": [
    {
     "data": {
      "text/plain": [
       "list"
      ]
     },
     "execution_count": 4,
     "metadata": {},
     "output_type": "execute_result"
    }
   ],
   "source": [
    "type(numbers)"
   ]
  },
  {
   "cell_type": "code",
   "execution_count": 5,
   "id": "4132f3cd-4351-43c8-8018-4cc8aa0bbe24",
   "metadata": {},
   "outputs": [
    {
     "data": {
      "text/plain": [
       "list"
      ]
     },
     "execution_count": 5,
     "metadata": {},
     "output_type": "execute_result"
    }
   ],
   "source": [
    "type(marks)"
   ]
  },
  {
   "cell_type": "code",
   "execution_count": 6,
   "id": "105a2114-b36b-4443-beac-9dfcc4057e9d",
   "metadata": {},
   "outputs": [
    {
     "name": "stdout",
     "output_type": "stream",
     "text": [
      "apple\n",
      "mango\n",
      "['apple', 'banana']\n"
     ]
    }
   ],
   "source": [
    "fruits = [\"apple\", \"banana\", \"mango\"]\n",
    "\n",
    "print(fruits[0])   # apple  (first element)\n",
    "print(fruits[-1])  # mango  (last element)\n",
    "print(fruits[0:2]) # ['apple', 'banana']  (slicing)\n"
   ]
  },
  {
   "cell_type": "code",
   "execution_count": 7,
   "id": "f328695f-d3cd-4320-ad80-dbaab7e881ff",
   "metadata": {},
   "outputs": [],
   "source": [
    "# Modifying Lists"
   ]
  },
  {
   "cell_type": "code",
   "execution_count": 8,
   "id": "02128978-1776-4df1-8099-82bed6b5a1d5",
   "metadata": {},
   "outputs": [],
   "source": [
    "student=[\"alok\",80,20,\"Yeola\"]"
   ]
  },
  {
   "cell_type": "code",
   "execution_count": 9,
   "id": "566bb53a-d05f-4b89-a95d-82b5b3ba8f79",
   "metadata": {},
   "outputs": [
    {
     "data": {
      "text/plain": [
       "['alok', 80, 20, 'Yeola']"
      ]
     },
     "execution_count": 9,
     "metadata": {},
     "output_type": "execute_result"
    }
   ],
   "source": [
    "student"
   ]
  },
  {
   "cell_type": "code",
   "execution_count": 10,
   "id": "bea23a5f-af57-43d2-bc2f-f78d39d90dfc",
   "metadata": {},
   "outputs": [],
   "source": [
    "student[2]=40"
   ]
  },
  {
   "cell_type": "code",
   "execution_count": 11,
   "id": "b4e79e31-c1dd-4191-b017-02b1a85135fc",
   "metadata": {},
   "outputs": [
    {
     "data": {
      "text/plain": [
       "['alok', 80, 40, 'Yeola']"
      ]
     },
     "execution_count": 11,
     "metadata": {},
     "output_type": "execute_result"
    }
   ],
   "source": [
    "student"
   ]
  },
  {
   "cell_type": "code",
   "execution_count": 12,
   "id": "14a50235-3674-4deb-9d5a-120be9b64e80",
   "metadata": {},
   "outputs": [
    {
     "name": "stdout",
     "output_type": "stream",
     "text": [
      "[10, 25, 30]\n"
     ]
    }
   ],
   "source": [
    "numbers = [10, 20, 30]\n",
    "numbers[1] = 25\n",
    "print(numbers)   # [10, 25, 30]"
   ]
  },
  {
   "cell_type": "code",
   "execution_count": 13,
   "id": "ecb8dc6e-08ad-4b18-8a60-510604563758",
   "metadata": {},
   "outputs": [
    {
     "name": "stdout",
     "output_type": "stream",
     "text": [
      "[10, 25, 30, 40]\n"
     ]
    }
   ],
   "source": [
    "numbers.append(40)  # add at end\n",
    "print(numbers)      # [10, 25, 30, 40]"
   ]
  },
  {
   "cell_type": "code",
   "execution_count": 14,
   "id": "6a53c001-fb1e-4afb-af7e-e6b3c9a16779",
   "metadata": {},
   "outputs": [
    {
     "name": "stdout",
     "output_type": "stream",
     "text": [
      "[10, 15, 25, 30, 40]\n"
     ]
    }
   ],
   "source": [
    "numbers.insert(1, 15)  # insert at index 1\n",
    "print(numbers)    "
   ]
  },
  {
   "cell_type": "code",
   "execution_count": 15,
   "id": "d51a1d70-c8b2-4871-ad92-8b7ea59b4d57",
   "metadata": {},
   "outputs": [
    {
     "name": "stdout",
     "output_type": "stream",
     "text": [
      "[10, 15, 30, 40]\n"
     ]
    }
   ],
   "source": [
    "numbers.remove(25)      # remove element\n",
    "print(numbers)          # [10, 15, 30, 40]"
   ]
  },
  {
   "cell_type": "code",
   "execution_count": 16,
   "id": "ae5cdd3e-5964-4392-b729-42cfc3dfc7b4",
   "metadata": {},
   "outputs": [
    {
     "name": "stdout",
     "output_type": "stream",
     "text": [
      "[10, 15, 30]\n"
     ]
    }
   ],
   "source": [
    "numbers.pop()           # remove last element\n",
    "print(numbers)          # [10, 15, 30]"
   ]
  },
  {
   "cell_type": "code",
   "execution_count": 17,
   "id": "c6494b18-21a9-4b4f-9475-86871ee95358",
   "metadata": {},
   "outputs": [
    {
     "name": "stdout",
     "output_type": "stream",
     "text": [
      "[10, 30]\n"
     ]
    }
   ],
   "source": [
    "numbers.pop(1)           # remove pos element\n",
    "print(numbers)          # [10, 15, 30]"
   ]
  },
  {
   "cell_type": "code",
   "execution_count": 18,
   "id": "4cb77b06-bf3e-4244-ad53-54ce908034c8",
   "metadata": {},
   "outputs": [],
   "source": [
    "\n",
    "numbers.append(40) \n",
    "numbers.append(50) "
   ]
  },
  {
   "cell_type": "code",
   "execution_count": 19,
   "id": "98a0a6e8-48a5-41ff-93c3-2043cb7cb51d",
   "metadata": {},
   "outputs": [
    {
     "data": {
      "text/plain": [
       "[10, 30, 40, 50]"
      ]
     },
     "execution_count": 19,
     "metadata": {},
     "output_type": "execute_result"
    }
   ],
   "source": [
    "numbers"
   ]
  },
  {
   "cell_type": "raw",
   "id": "f4dcdc36-f389-4f31-bd85-1a5f5bb107a7",
   "metadata": {},
   "source": [
    "What is List Indexing?\n",
    "\n",
    "Indexing lets you access individual elements of a list using their position.\n",
    "Forward indexing: starts from 0 (first element)\n",
    "Backward indexing: starts from -1 (last element)"
   ]
  },
  {
   "cell_type": "code",
   "execution_count": 20,
   "id": "ca3deca4-8ed9-4a0b-831d-51adc8bcdf07",
   "metadata": {},
   "outputs": [
    {
     "name": "stdout",
     "output_type": "stream",
     "text": [
      "apple\n",
      "banana\n",
      "orange\n"
     ]
    }
   ],
   "source": [
    "fruits = [\"apple\", \"banana\", \"mango\", \"orange\"]\n",
    "print(fruits[0])  # apple\n",
    "print(fruits[1])  # banana\n",
    "print(fruits[3])  # orange\n"
   ]
  },
  {
   "cell_type": "code",
   "execution_count": 21,
   "id": "1621212c-878a-4cfd-bec3-a22946d970fa",
   "metadata": {},
   "outputs": [
    {
     "name": "stdout",
     "output_type": "stream",
     "text": [
      "orange\n",
      "mango\n",
      "apple\n"
     ]
    }
   ],
   "source": [
    "print(fruits[-1])  # orange (last element)\n",
    "print(fruits[-2])  # mango\n",
    "print(fruits[-4])  # apple (first element)\n"
   ]
  },
  {
   "cell_type": "code",
   "execution_count": 22,
   "id": "cce14ca4-341d-4ded-add8-f4f1e47e0d0c",
   "metadata": {},
   "outputs": [],
   "source": [
    "# Indexing in Nested Lists"
   ]
  },
  {
   "cell_type": "code",
   "execution_count": 23,
   "id": "1d6cad00-226c-4dad-a5bc-ab81298551c4",
   "metadata": {},
   "outputs": [
    {
     "name": "stdout",
     "output_type": "stream",
     "text": [
      "[1, 2, 3]\n",
      "6\n",
      "9\n"
     ]
    }
   ],
   "source": [
    "numbers = [[1,2,3], [4,5,6], [7,8,9]]\n",
    "\n",
    "print(numbers[0])    # [1,2,3] → first sub-list\n",
    "print(numbers[1][2]) # 6 → 3rd element of 2nd sub-list\n",
    "print(numbers[-1][-1]) # 9 → last element of last sub-list\n"
   ]
  },
  {
   "cell_type": "code",
   "execution_count": 24,
   "id": "f265a02b-aba2-4893-8d83-e91855a2c6f9",
   "metadata": {},
   "outputs": [],
   "source": [
    "# Slicing"
   ]
  },
  {
   "cell_type": "code",
   "execution_count": 25,
   "id": "dce02886-6e8d-4297-9446-0ea215458c39",
   "metadata": {},
   "outputs": [
    {
     "name": "stdout",
     "output_type": "stream",
     "text": [
      "[20, 30, 40]\n",
      "[10, 20, 30]\n",
      "[40, 50, 60]\n",
      "[10, 20, 30, 40, 50, 60]\n"
     ]
    }
   ],
   "source": [
    "numbers = [10, 20, 30, 40, 50, 60]\n",
    "\n",
    "print(numbers[1:4])    # [20, 30, 40] → from index 1 to 3\n",
    "print(numbers[:3])     # [10, 20, 30] → start to index 2\n",
    "print(numbers[3:])     # [40, 50, 60] → index 3 to end\n",
    "print(numbers[:])      # [10, 20, 30, 40, 50, 60] → whole list\n"
   ]
  },
  {
   "cell_type": "code",
   "execution_count": 26,
   "id": "e9ed06f1-3755-4dec-8ff8-9aa045ff15db",
   "metadata": {},
   "outputs": [
    {
     "name": "stdout",
     "output_type": "stream",
     "text": [
      "[30, 40, 50]\n",
      "[40, 50, 60]\n"
     ]
    }
   ],
   "source": [
    "print(numbers[-4:-1])  # [30, 40, 50] → indexes -4 to -2\n",
    "print(numbers[-3:])    # [40, 50, 60] → last 3 elements\n"
   ]
  },
  {
   "cell_type": "code",
   "execution_count": 27,
   "id": "cc40b4f8-bacb-4b96-af9c-657199514b8a",
   "metadata": {},
   "outputs": [
    {
     "name": "stdout",
     "output_type": "stream",
     "text": [
      "[10, 30, 50]\n",
      "[20, 40, 60]\n",
      "[60, 50, 40, 30, 20, 10]\n"
     ]
    }
   ],
   "source": [
    "print(numbers[::2])   # [10, 30, 50] → every 2nd element\n",
    "print(numbers[1::2])  # [20, 40, 60] → every 2nd element starting from index 1\n",
    "print(numbers[::-1])  # [60, 50, 40, 30, 20, 10] → reverse the list\n"
   ]
  },
  {
   "cell_type": "code",
   "execution_count": 30,
   "id": "f3dfe520-ff8d-44d9-a670-294190e59b53",
   "metadata": {},
   "outputs": [
    {
     "name": "stdout",
     "output_type": "stream",
     "text": [
      "['apple', 'banana', 'mango', 'orange']\n"
     ]
    }
   ],
   "source": [
    "fruits = [\"apple\", \"banana\"]\n",
    "more_fruits = [\"mango\", \"orange\"]\n",
    "\n",
    "fruits.extend(more_fruits)\n",
    "print(fruits)  \n",
    "# ['apple', 'banana', 'mango', 'orange']\n"
   ]
  },
  {
   "cell_type": "code",
   "execution_count": 31,
   "id": "4f14792d-80a0-4b83-b212-e82beb8b89ff",
   "metadata": {},
   "outputs": [
    {
     "name": "stdout",
     "output_type": "stream",
     "text": [
      "['A', 'B', 'C', 'D']\n"
     ]
    }
   ],
   "source": [
    "letters = [\"A\", \"B\"]\n",
    "letters.extend(\"CD\")\n",
    "print(letters)  # ['A', 'B', 'C', 'D']\n"
   ]
  },
  {
   "cell_type": "markdown",
   "id": "7e3c51e9-d3bf-4445-9d6f-f62ae6d51c18",
   "metadata": {},
   "source": [
    "# Tuple in Python"
   ]
  },
  {
   "cell_type": "code",
   "execution_count": 32,
   "id": "161777bd-fdf0-4f98-bc2a-ca185f4bbf79",
   "metadata": {},
   "outputs": [],
   "source": [
    "#Tuple = A built-in data types that lets us create immutable sequence of values.\n",
    "# A tuple is an ordered, immutable collection of items."
   ]
  },
  {
   "cell_type": "code",
   "execution_count": 33,
   "id": "45d3e6c4-54bc-4e48-9529-f25d1dcdbaa0",
   "metadata": {},
   "outputs": [],
   "source": [
    "t1 = (10, 20, 30)\n",
    "t2 = (\"apple\", \"banana\", \"mango\")\n",
    "t3 = (1, \"hello\", 3.14, True)\n",
    "empty = ()\n",
    "single = (5,)   # note the comma! without it, it’s just int\n"
   ]
  },
  {
   "cell_type": "code",
   "execution_count": 34,
   "id": "5a43b19f-1e83-4806-aed7-6b52c14ddac6",
   "metadata": {},
   "outputs": [
    {
     "data": {
      "text/plain": [
       "1"
      ]
     },
     "execution_count": 34,
     "metadata": {},
     "output_type": "execute_result"
    }
   ],
   "source": [
    "tup=(2,1,3,1)\n",
    "tup[1]"
   ]
  },
  {
   "cell_type": "code",
   "execution_count": 35,
   "id": "7f8ab84d-f6e5-4eff-b6eb-f44cd86dceaa",
   "metadata": {},
   "outputs": [
    {
     "data": {
      "text/plain": [
       "3"
      ]
     },
     "execution_count": 35,
     "metadata": {},
     "output_type": "execute_result"
    }
   ],
   "source": [
    "tup[2]"
   ]
  },
  {
   "cell_type": "code",
   "execution_count": 36,
   "id": "0d5ed7ca-21b7-47d7-8d66-f3b38fe8cb59",
   "metadata": {},
   "outputs": [
    {
     "name": "stdout",
     "output_type": "stream",
     "text": [
      "<class 'tuple'>\n"
     ]
    }
   ],
   "source": [
    "print(type(tup))"
   ]
  },
  {
   "cell_type": "code",
   "execution_count": 41,
   "id": "ce6a0195-d58c-49c8-9c71-5ef666e601dd",
   "metadata": {},
   "outputs": [],
   "source": [
    "#Slicing"
   ]
  },
  {
   "cell_type": "code",
   "execution_count": 38,
   "id": "8bd31dfa-0c69-4be8-beb8-96ce9627981e",
   "metadata": {},
   "outputs": [
    {
     "name": "stdout",
     "output_type": "stream",
     "text": [
      "(2, 1, 3)\n"
     ]
    }
   ],
   "source": [
    "print(tup[0:3])"
   ]
  },
  {
   "cell_type": "code",
   "execution_count": 39,
   "id": "4f2929cb-1805-47c1-9574-c58c10250a75",
   "metadata": {},
   "outputs": [
    {
     "name": "stdout",
     "output_type": "stream",
     "text": [
      "(2, 1, 3, 1)\n"
     ]
    }
   ],
   "source": [
    "print(tup[0:])"
   ]
  },
  {
   "cell_type": "code",
   "execution_count": 40,
   "id": "1b74ca37-d468-499f-98d6-a4ccaac09367",
   "metadata": {},
   "outputs": [
    {
     "name": "stdout",
     "output_type": "stream",
     "text": [
      "(1, 3, 1)\n"
     ]
    }
   ],
   "source": [
    "print(tup[-3:])"
   ]
  },
  {
   "cell_type": "code",
   "execution_count": 48,
   "id": "50c9748a-2333-4a7c-bea2-b5111bfc9163",
   "metadata": {},
   "outputs": [],
   "source": [
    "# Tuple Operations"
   ]
  },
  {
   "cell_type": "code",
   "execution_count": 49,
   "id": "36023f3d-0672-42d6-8c11-acad7f10c08c",
   "metadata": {},
   "outputs": [
    {
     "name": "stdout",
     "output_type": "stream",
     "text": [
      "(1, 2, 3, 4, 5, 6)\n",
      "(1, 2, 3, 1, 2, 3)\n",
      "True\n",
      "3\n"
     ]
    }
   ],
   "source": [
    "a = (1, 2, 3)\n",
    "b = (4, 5, 6)\n",
    "\n",
    "print(a + b)   # concatenation → (1,2,3,4,5,6)\n",
    "print(a * 2)   # repetition → (1,2,3,1,2,3)\n",
    "print(2 in a)  # True\n",
    "print(len(a))  # 3\n"
   ]
  },
  {
   "cell_type": "code",
   "execution_count": 50,
   "id": "e8aee31b-5e95-431c-9433-3af767ebe765",
   "metadata": {},
   "outputs": [
    {
     "name": "stdout",
     "output_type": "stream",
     "text": [
      "2\n",
      "2\n"
     ]
    }
   ],
   "source": [
    "nums = (5, 2, 8, 2, 5)\n",
    "\n",
    "print(nums.count(5))   # 2 (occurrences of 5)\n",
    "print(nums.index(8))   # 2 (first index of 8)\n"
   ]
  },
  {
   "cell_type": "raw",
   "id": "137c1961-15a6-4ee5-a47c-217f4103d509",
   "metadata": {},
   "source": [
    "Q. Write a Python program that accepts names of three movies from \n",
    "the user and stores them in a list."
   ]
  },
  {
   "cell_type": "code",
   "execution_count": 53,
   "id": "fa6eed24-53a1-4446-8dfe-63c730964ec8",
   "metadata": {},
   "outputs": [
    {
     "name": "stdin",
     "output_type": "stream",
     "text": [
      "Enter movie Inception\n",
      "Enter movie Kimi no Na wa\n",
      "Enter movie 3 Idiots\n"
     ]
    },
    {
     "data": {
      "text/plain": [
       "['Inception', 'Kimi no Na wa', '3 Idiots']"
      ]
     },
     "execution_count": 53,
     "metadata": {},
     "output_type": "execute_result"
    }
   ],
   "source": [
    "m1=input(\"Enter movie\")\n",
    "m2=input(\"Enter movie\")\n",
    "m3=input(\"Enter movie\")\n",
    "list=[]\n",
    "list.append(m1)\n",
    "list.append(m2)\n",
    "list.append(m3)\n",
    "list"
   ]
  },
  {
   "cell_type": "raw",
   "id": "088a5d0f-f885-4f4d-bd33-63865e00e06c",
   "metadata": {},
   "source": [
    "Q. Write a Python program to check if alist contains a palindrome of elements\n",
    "(use copy() method)"
   ]
  },
  {
   "cell_type": "code",
   "execution_count": 65,
   "id": "3a748f4f-e401-423f-911f-f470aaf18647",
   "metadata": {},
   "outputs": [
    {
     "name": "stdout",
     "output_type": "stream",
     "text": [
      "Palindrome List !!\n"
     ]
    }
   ],
   "source": [
    "# Take a list\n",
    "my_list = [1, 2, 3, 2, 1]\n",
    "\n",
    "# Create a copy of the list\n",
    "list_copy = my_list.copy()\n",
    "\n",
    "# Reverse the copy\n",
    "list_copy.reverse()\n",
    "\n",
    "# Compare\n",
    "if my_list == list_copy:\n",
    "    print(\"Palindrome List !!\")\n",
    "else:\n",
    "    print(\"Not a Palindrome List !!\")\n"
   ]
  },
  {
   "cell_type": "code",
   "execution_count": null,
   "id": "02cc4bde-ba23-4789-a392-6fa10d1ab57a",
   "metadata": {},
   "outputs": [],
   "source": []
  }
 ],
 "metadata": {
  "kernelspec": {
   "display_name": "Python 3 (ipykernel)",
   "language": "python",
   "name": "python3"
  },
  "language_info": {
   "codemirror_mode": {
    "name": "ipython",
    "version": 3
   },
   "file_extension": ".py",
   "mimetype": "text/x-python",
   "name": "python",
   "nbconvert_exporter": "python",
   "pygments_lexer": "ipython3",
   "version": "3.11.7"
  }
 },
 "nbformat": 4,
 "nbformat_minor": 5
}
