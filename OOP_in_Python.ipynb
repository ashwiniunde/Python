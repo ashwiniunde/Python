{
 "cells": [
  {
   "cell_type": "markdown",
   "id": "5ead7031-7d76-4d56-8055-02d392703d26",
   "metadata": {},
   "source": [
    "# OOP in Python"
   ]
  },
  {
   "cell_type": "raw",
   "id": "b67e4ae4-5236-4c21-8a85-8ccfca0cc971",
   "metadata": {},
   "source": [
    "To map with real world scenarios, we started using objects in code.\n",
    "This is called Object Oriented Programming."
   ]
  },
  {
   "cell_type": "code",
   "execution_count": 6,
   "id": "497d742b-7dad-463a-a804-bb028aa48c14",
   "metadata": {},
   "outputs": [
    {
     "name": "stdout",
     "output_type": "stream",
     "text": [
      "<__main__.student object at 0x000002214A42AE10>\n"
     ]
    }
   ],
   "source": [
    "# Class = class is blueprint for creating objects.\n",
    " # creating class \n",
    "class student: \n",
    "    name = \"Karan\"\n",
    "\n",
    "# object  = instance of class\n",
    "s1=student()\n",
    "print(s1)"
   ]
  },
  {
   "cell_type": "code",
   "execution_count": 7,
   "id": "bfb0c51e-69f4-4975-a748-e30b06a66c94",
   "metadata": {},
   "outputs": [
    {
     "name": "stdout",
     "output_type": "stream",
     "text": [
      "Karan\n"
     ]
    }
   ],
   "source": [
    "print(s1.name)"
   ]
  },
  {
   "cell_type": "code",
   "execution_count": 10,
   "id": "9d2d68d1-9150-4a07-9c34-c8879d3a4055",
   "metadata": {},
   "outputs": [
    {
     "name": "stdout",
     "output_type": "stream",
     "text": [
      "Blue\n",
      "mercedes\n"
     ]
    }
   ],
   "source": [
    "class car: #class\n",
    "    color = \"Blue\"\n",
    "    brand = \"mercedes\"\n",
    "\n",
    "car1 = car() # obj\n",
    "print(car1.color)\n",
    "print(car1.brand)"
   ]
  },
  {
   "cell_type": "raw",
   "id": "70d6a1ca-1116-4cef-97db-fbaff635ce7d",
   "metadata": {},
   "source": [
    "__init__ Function \n",
    "Constructor = All classes have a function called __init__(), which is \n",
    "always executed when obj is being initiated.\n",
    "\n",
    "# creating a class\n",
    "class Student:\n",
    "    def __init__(self,fullname):\n",
    "        self.name = fullname\n",
    "\n",
    "#creating object \n",
    "s1 = Student(\"Karan\")\n",
    "print(s1.name)\n",
    "\n",
    "#self parameter is the reference to currnt instance of class and is\n",
    "# used to access variables that belongs to the class."
   ]
  },
  {
   "cell_type": "code",
   "execution_count": 1,
   "id": "e381e884-4d40-4ac4-9382-da0ca59413f9",
   "metadata": {},
   "outputs": [
    {
     "name": "stdout",
     "output_type": "stream",
     "text": [
      "<__main__.Student object at 0x0000026AF8F459D0>\n",
      "Adding new student in DB.\n",
      "<__main__.Student object at 0x0000026AF8F459D0>\n"
     ]
    }
   ],
   "source": [
    "class Student:\n",
    "    name = \"karan\"\n",
    "    def __init__(self):\n",
    "        print(self)\n",
    "        print(\"Adding new student in DB.\")\n",
    "\n",
    "s1=Student()\n",
    "print(s1)"
   ]
  },
  {
   "cell_type": "code",
   "execution_count": 10,
   "id": "77e6f870-868f-4639-be81-7114ef24f781",
   "metadata": {},
   "outputs": [
    {
     "name": "stdout",
     "output_type": "stream",
     "text": [
      "Adding new student in DB.\n",
      "Karan 25\n",
      "Adding new student in DB.\n",
      "Arjun 45\n"
     ]
    }
   ],
   "source": [
    "class Student:\n",
    "    # # default constructor\n",
    "    # def __init__(self):\n",
    "    #     pass\n",
    "\n",
    "    # parameterized constructors\n",
    "    def __init__(self,name,marks):\n",
    "        self.name=name\n",
    "        self.marks=marks\n",
    "        print(\"Adding new student in DB.\")\n",
    "\n",
    "s1=Student(\"Karan\",25)\n",
    "print(s1.name,s1.marks)\n",
    "s2=Student(\"Arjun\",45)\n",
    "print(s2.name,s2.marks)"
   ]
  },
  {
   "cell_type": "code",
   "execution_count": 11,
   "id": "8d3fd3b6-ac63-43d3-9c3d-0a8897c27e04",
   "metadata": {},
   "outputs": [],
   "source": [
    "# Class & Instance Attribites "
   ]
  },
  {
   "cell_type": "code",
   "execution_count": 18,
   "id": "44fd9dab-6df1-4fa7-8dd1-c219aff6facf",
   "metadata": {},
   "outputs": [
    {
     "name": "stdout",
     "output_type": "stream",
     "text": [
      "Add DB..\n",
      "Aman 80 sanjivani\n"
     ]
    }
   ],
   "source": [
    "class Student:\n",
    "    clg_name=\"sanjivani\" # class attribute\n",
    "    def __init__(self,name,marks):\n",
    "        self.name=name # obj attribute\n",
    "        self.marks= marks\n",
    "        print(\"Add DB..\")\n",
    "# obj attribute has more priority than class attribute\n",
    "s1=Student(\"Aman\",80)\n",
    "print(s1.name,s1.marks,s1.clg_name)"
   ]
  },
  {
   "cell_type": "code",
   "execution_count": 21,
   "id": "93905937-d461-43dc-a686-382554e8afab",
   "metadata": {},
   "outputs": [
    {
     "name": "stdout",
     "output_type": "stream",
     "text": [
      "Welcom !! Karan\n",
      "marks are : 20\n"
     ]
    }
   ],
   "source": [
    "class Student():\n",
    "    def __init__(self,name,marks):\n",
    "        self.name = name\n",
    "        self.marks=marks\n",
    "\n",
    "    def welcome(self): # method inside class\n",
    "        print(\"Welcom !!\",self.name)\n",
    "\n",
    "    def get_marks(self):\n",
    "        print(\"marks are :\",self.marks)\n",
    "\n",
    "s1=Student(\"Karan\",20)\n",
    "s1.welcome()\n",
    "s1.get_marks()"
   ]
  },
  {
   "cell_type": "code",
   "execution_count": 27,
   "id": "4d27976d-509f-45ad-9119-e7659f7048d0",
   "metadata": {},
   "outputs": [
    {
     "name": "stdout",
     "output_type": "stream",
     "text": [
      "Avg Marks are  89.66666666666667\n"
     ]
    }
   ],
   "source": [
    "class Student():\n",
    "    def __init__(self,name,marks):\n",
    "        self.name=name\n",
    "        self.marks=marks\n",
    "\n",
    "    def get_avg(self):\n",
    "        sum=0\n",
    "        for val in self.marks:\n",
    "            sum += val\n",
    "        print(\"Avg Marks are \",sum/3)\n",
    "\n",
    "s1=Student(\"Ashwini\",[99,80,90])\n",
    "s1.get_avg()       "
   ]
  },
  {
   "cell_type": "code",
   "execution_count": 29,
   "id": "c471f4f1-f536-454c-998c-fcde9fb02aa0",
   "metadata": {},
   "outputs": [],
   "source": [
    "# Static Method\n",
    "# Method that don't use the self parameter(work at class level)"
   ]
  },
  {
   "cell_type": "code",
   "execution_count": 33,
   "id": "de98b165-0bc9-4edc-b847-4de72b12bfcf",
   "metadata": {},
   "outputs": [
    {
     "name": "stdout",
     "output_type": "stream",
     "text": [
      "Sanjivani\n"
     ]
    }
   ],
   "source": [
    "class Student():\n",
    "    @staticmethod\n",
    "    def college():\n",
    "        print(\"Sanjivani\")\n",
    "s1=Student()\n",
    "s1.college()\n",
    "# Decorator allow us to wrap another function inorder to extend\n",
    "# the behaviour of the wrapped function,without permanantly modifying it."
   ]
  },
  {
   "cell_type": "code",
   "execution_count": 34,
   "id": "e0d138ea-a947-4baf-ab6d-f32bedebe538",
   "metadata": {},
   "outputs": [],
   "source": [
    "# Pillors OF OOP\n",
    "# 1. Abstraction \n",
    "# 2. Encapsulation\n",
    "# 3. Inheritance\n",
    "# 4. Polymorphism\n"
   ]
  },
  {
   "cell_type": "code",
   "execution_count": 35,
   "id": "57823489-ba0d-4d4f-aed2-976531eaae28",
   "metadata": {},
   "outputs": [],
   "source": [
    "# 1. Abstraction => hiding the implementation details of a class and\n",
    "# only showing the essential features to the user."
   ]
  },
  {
   "cell_type": "code",
   "execution_count": 36,
   "id": "09988adb-0702-4deb-b894-32a69f4d08a7",
   "metadata": {},
   "outputs": [
    {
     "name": "stdout",
     "output_type": "stream",
     "text": [
      "Started..\n"
     ]
    }
   ],
   "source": [
    "class Car:\n",
    "    def __init__(self):\n",
    "        self.acc = False\n",
    "        self.brk=False\n",
    "        self.clutch=False\n",
    "\n",
    "    def start(self):\n",
    "        self.clutch=True\n",
    "        self.acc=True\n",
    "        print(\"Started..\")\n",
    "\n",
    "car1=Car()\n",
    "car1.start()\n"
   ]
  },
  {
   "cell_type": "code",
   "execution_count": 2,
   "id": "c4a85716-03ce-45f3-a885-4be2b997ce4e",
   "metadata": {},
   "outputs": [],
   "source": [
    "# Q1.Create account class with 2 attributes- balance & account no.\n",
    " # create method for debit,credit & printing the balance."
   ]
  },
  {
   "cell_type": "code",
   "execution_count": 15,
   "id": "e0a9b980-bd0a-466a-9ae3-7ba460cc0fda",
   "metadata": {},
   "outputs": [
    {
     "name": "stdout",
     "output_type": "stream",
     "text": [
      "1000 23243\n",
      "Rs.  100 was debited\n",
      "Total Bal. 900\n",
      "Rs.  500 was credited\n",
      "Total Bal. 1400\n",
      "Rs.  50000 was credited\n",
      "Total Bal. 51400\n"
     ]
    }
   ],
   "source": [
    "# Encapsulation\n",
    "class Account:\n",
    "    def __init__(self, bal, acc):\n",
    "        self.balance=bal\n",
    "        self.account_no=acc\n",
    "\n",
    "# debit method\n",
    "    def debit(self,amount):\n",
    "        self.balance -= amount\n",
    "        print(\"Rs. \",amount,\"was debited\")\n",
    "        print(\"Total Bal.\",self.get_bal())\n",
    "\n",
    "    def credit(self,amount):\n",
    "        self.balance += amount\n",
    "        print(\"Rs. \",amount,\"was credited\")\n",
    "        print(\"Total Bal.\",self.get_bal())\n",
    "\n",
    "    def get_bal(self):\n",
    "        return self.balance\n",
    "        \n",
    "        \n",
    "\n",
    "acc1=Account(1000,23243)\n",
    "print(acc1.balance, acc1.account_no)\n",
    "acc1.debit(100) \n",
    "acc1.credit(500)\n",
    "acc1.credit(50000)       "
   ]
  },
  {
   "cell_type": "code",
   "execution_count": 12,
   "id": "ac243601-7799-41d6-adbd-dbea41e471d1",
   "metadata": {},
   "outputs": [],
   "source": [
    "# del Keyword\n",
    "# Use to delete object properties or object itself.\n",
    "# del s1.name\n",
    "# del s1"
   ]
  },
  {
   "cell_type": "code",
   "execution_count": 25,
   "id": "8556d5a9-ee7c-493e-94c8-7f8912df4df3",
   "metadata": {},
   "outputs": [
    {
     "name": "stdout",
     "output_type": "stream",
     "text": [
      "ashwini\n",
      "<__main__.Student object at 0x0000021CA253F890>\n"
     ]
    },
    {
     "ename": "NameError",
     "evalue": "name 's1' is not defined",
     "output_type": "error",
     "traceback": [
      "\u001b[1;31m---------------------------------------------------------------------------\u001b[0m",
      "\u001b[1;31mNameError\u001b[0m                                 Traceback (most recent call last)",
      "Cell \u001b[1;32mIn[25], line 9\u001b[0m\n\u001b[0;32m      7\u001b[0m \u001b[38;5;28mprint\u001b[39m(s1)\n\u001b[0;32m      8\u001b[0m \u001b[38;5;28;01mdel\u001b[39;00m s1\n\u001b[1;32m----> 9\u001b[0m \u001b[38;5;28mprint\u001b[39m(s1)\n",
      "\u001b[1;31mNameError\u001b[0m: name 's1' is not defined"
     ]
    }
   ],
   "source": [
    "class Student:\n",
    "    def __init__(self,name):\n",
    "        self.name=name\n",
    "\n",
    "s1 = Student(\"ashwini\")\n",
    "print(s1.name)\n",
    "print(s1)\n",
    "del s1\n",
    "print(s1)"
   ]
  },
  {
   "cell_type": "code",
   "execution_count": null,
   "id": "803ae02f-5d16-487c-b6d1-3dcc07e0d9e8",
   "metadata": {},
   "outputs": [],
   "source": []
  },
  {
   "cell_type": "code",
   "execution_count": null,
   "id": "0fb909e5-4132-4961-9eea-417b659288f7",
   "metadata": {},
   "outputs": [],
   "source": [
    "# Private(like) attributes  & methods\n",
    "# to make attribut prive use __att_name"
   ]
  },
  {
   "cell_type": "code",
   "execution_count": 32,
   "id": "824f357c-9e43-48da-963e-162229092af4",
   "metadata": {},
   "outputs": [
    {
     "name": "stdout",
     "output_type": "stream",
     "text": [
      "12233444\n"
     ]
    },
    {
     "ename": "AttributeError",
     "evalue": "'Account' object has no attribute '__password'",
     "output_type": "error",
     "traceback": [
      "\u001b[1;31m---------------------------------------------------------------------------\u001b[0m",
      "\u001b[1;31mAttributeError\u001b[0m                            Traceback (most recent call last)",
      "Cell \u001b[1;32mIn[32], line 11\u001b[0m\n\u001b[0;32m      9\u001b[0m s1\u001b[38;5;241m=\u001b[39mAccount(\u001b[38;5;124m'\u001b[39m\u001b[38;5;124m12233444\u001b[39m\u001b[38;5;124m'\u001b[39m,\u001b[38;5;124m\"\u001b[39m\u001b[38;5;124mRamm\u001b[39m\u001b[38;5;124m\"\u001b[39m)\n\u001b[0;32m     10\u001b[0m \u001b[38;5;28mprint\u001b[39m(s1\u001b[38;5;241m.\u001b[39macc_no)\n\u001b[1;32m---> 11\u001b[0m \u001b[38;5;28mprint\u001b[39m(s1\u001b[38;5;241m.\u001b[39m__password)\n",
      "\u001b[1;31mAttributeError\u001b[0m: 'Account' object has no attribute '__password'"
     ]
    }
   ],
   "source": [
    "class Account:\n",
    "    def __init__(self,acc_no,password):\n",
    "        self.acc_no=acc_no\n",
    "        self.__password=password\n",
    "\n",
    "    def reset_pass(self):\n",
    "        print(self.__password) # inside class we can use\n",
    "\n",
    "s1=Account('12233444',\"Ramm\")\n",
    "print(s1.acc_no)\n",
    "print(s1.__password) # private -- can not access outside class"
   ]
  },
  {
   "cell_type": "code",
   "execution_count": 13,
   "id": "0973d19d-b61f-4817-96d9-04ccfb731283",
   "metadata": {},
   "outputs": [
    {
     "name": "stdout",
     "output_type": "stream",
     "text": [
      "Hello !!\n",
      "None\n",
      "Hello !!\n",
      "None\n"
     ]
    }
   ],
   "source": [
    "class Person:\n",
    "    __name = \"Karan\"\n",
    "\n",
    "    def __hello(self):\n",
    "        print(\"Hello !!\")\n",
    "\n",
    "    def welcome(self):\n",
    "        self.__hello()\n",
    "\n",
    "    def hi(self):\n",
    "        self.__hello()\n",
    "        \n",
    "\n",
    "p1 = Person() \n",
    "print(p1.welcome())\n",
    "print(p1.hi())"
   ]
  },
  {
   "cell_type": "code",
   "execution_count": 16,
   "id": "5a75c585-c0cd-48de-bde0-3d28906a0495",
   "metadata": {},
   "outputs": [],
   "source": [
    "# Inheritance\n",
    "# When one class derives the properties & methods of another class."
   ]
  },
  {
   "cell_type": "raw",
   "id": "1fb3667c-c3c4-4dd3-808b-da053094841f",
   "metadata": {},
   "source": [
    "class Car:\n",
    "    ......\n",
    "    ....\n",
    "\n",
    "class Toyotacar(Car):\n",
    "    ......"
   ]
  },
  {
   "cell_type": "code",
   "execution_count": 24,
   "id": "c6870362-8943-4e3e-94ec-3423d1f87796",
   "metadata": {},
   "outputs": [
    {
     "name": "stdout",
     "output_type": "stream",
     "text": [
      "Fortuner..\n",
      "prius..\n",
      "car started..\n",
      "None\n",
      "Black\n"
     ]
    }
   ],
   "source": [
    "# Single Inheritance\n",
    "class Car: #base Class\n",
    "    color=\"Black\"\n",
    "    @staticmethod\n",
    "    def start():\n",
    "        print(\"car started..\")\n",
    "\n",
    "    @staticmethod\n",
    "    def stop():\n",
    "        print(\"Car Stopped..\")\n",
    "\n",
    "class Toyotacar(Car): #Derive class\n",
    "    def __init__(self,name):\n",
    "        self.name=name\n",
    "\n",
    "car1 = Toyotacar(\"Fortuner..\")\n",
    "car2 = Toyotacar(\"prius..\")\n",
    "\n",
    "print(car1.name)\n",
    "print(car2.name)\n",
    "\n",
    "print(car1.start()) #derive function\n",
    "print(car1.color) # derived value from base class"
   ]
  },
  {
   "cell_type": "raw",
   "id": "507192c2-e5d0-4e10-8c33-e86c6c025427",
   "metadata": {},
   "source": [
    "# Types of Inheritance\n",
    "1. Single Inheritance\n",
    "2. Multi-Level Inheritance\n",
    "3. Multiple Inheritance"
   ]
  },
  {
   "cell_type": "code",
   "execution_count": 8,
   "id": "a62cd707-df50-4c6b-bd14-7aa9fbdb18c3",
   "metadata": {},
   "outputs": [
    {
     "name": "stdout",
     "output_type": "stream",
     "text": [
      "Diesel\n",
      "Car Started..\n"
     ]
    }
   ],
   "source": [
    "# 2. Multi-Level Inheritance\n",
    "class Car:\n",
    "    @staticmethod\n",
    "    def start():\n",
    "        print(\"Car Started..\")\n",
    "    @staticmethod\n",
    "    def stop():\n",
    "        print(\"Car stopped..\")\n",
    "\n",
    "class Toyotacar(Car):\n",
    "    def __init__(self,brand):\n",
    "        self.brand=brand\n",
    "\n",
    "# car1=Toyotacar(\"asd\")\n",
    "# print(car1.brand)\n",
    "\n",
    "class Fortuner(Toyotacar):\n",
    "    def __init__(self,type):\n",
    "        self.type =type\n",
    "\n",
    "car2= Fortuner(\"Diesel\")\n",
    "print(car2.type)\n",
    "car2.start()"
   ]
  },
  {
   "cell_type": "code",
   "execution_count": 10,
   "id": "dc958b42-d7af-48f4-a793-9d61f655a992",
   "metadata": {},
   "outputs": [
    {
     "name": "stdout",
     "output_type": "stream",
     "text": [
      "WELCOM AA\n",
      "WELCOM BB\n",
      "WELCOME CC\n"
     ]
    }
   ],
   "source": [
    "# 3. Multiple Inheritance\n",
    "#  Base 1 & Base 2 =>> Derived CLass \n",
    "\n",
    "class A:\n",
    "    varA = \"WELCOM AA\"\n",
    "\n",
    "class B:\n",
    "    varB = \"WELCOM BB\"\n",
    "\n",
    "class C(A,B):\n",
    "    varC = \"WELCOME CC\"\n",
    "\n",
    "c1 = C()\n",
    "print(c1.varA)\n",
    "print(c1.varB)\n",
    "print(c1.varC)"
   ]
  },
  {
   "cell_type": "code",
   "execution_count": 11,
   "id": "51c44a74-166b-4bdd-bfb0-51c468661126",
   "metadata": {},
   "outputs": [],
   "source": [
    "# Super Method\n",
    "# super() method is used to access methods of the parent class."
   ]
  },
  {
   "cell_type": "code",
   "execution_count": 17,
   "id": "beeba076-7bb2-42d4-ba00-91f2bce6efc6",
   "metadata": {},
   "outputs": [
    {
     "name": "stdout",
     "output_type": "stream",
     "text": [
      "Car Started...\n",
      "Electric\n",
      "Prius\n"
     ]
    }
   ],
   "source": [
    "# super()\n",
    "class Car:\n",
    "    def __init__(self,type):\n",
    "        self.type=type\n",
    "\n",
    "    @staticmethod\n",
    "    def start():\n",
    "        print(\"Car Started...\")\n",
    "\n",
    "    @staticmethod\n",
    "    def stop():\n",
    "        print(\"Car stopped..\")\n",
    "\n",
    "class Toyotacar(Car):\n",
    "    def __init__(self,name,type): \n",
    "        super().__init__(type)\n",
    "        self.name = name\n",
    "        super().start()\n",
    "\n",
    "car1 = Toyotacar(\"Prius\",\"Electric\")\n",
    "print(car1.type)\n",
    "print(car1.name)              "
   ]
  },
  {
   "cell_type": "code",
   "execution_count": 18,
   "id": "9d3879d5-86af-4c8b-889d-3392a7c3b9c2",
   "metadata": {},
   "outputs": [
    {
     "name": "stdout",
     "output_type": "stream",
     "text": [
      "Studying \n",
      "Playing football \n",
      "Playing guitar \n"
     ]
    }
   ],
   "source": [
    "# Polymorphism\n",
    "class Student:\n",
    "    def activity(self):\n",
    "        return \"Studying \"\n",
    "\n",
    "class SportsStudent:\n",
    "    def activity(self):\n",
    "        return \"Playing football \"\n",
    "\n",
    "class MusicStudent:\n",
    "    def activity(self):\n",
    "        return \"Playing guitar \"\n",
    "\n",
    "# Function using polymorphism\n",
    "def show_activity(obj):\n",
    "    print(obj.activity())\n",
    "\n",
    "# Usage\n",
    "s1 = Student()\n",
    "s2 = SportsStudent()\n",
    "s3 = MusicStudent()\n",
    "\n",
    "show_activity(s1)  # Studying \n",
    "show_activity(s2)  # Playing football \n",
    "show_activity(s3)  # Playing guitar \n"
   ]
  },
  {
   "cell_type": "code",
   "execution_count": null,
   "id": "b2ec3f7b-adc5-49ef-b25b-b8791a2e22e8",
   "metadata": {},
   "outputs": [],
   "source": []
  }
 ],
 "metadata": {
  "kernelspec": {
   "display_name": "Python 3 (ipykernel)",
   "language": "python",
   "name": "python3"
  },
  "language_info": {
   "codemirror_mode": {
    "name": "ipython",
    "version": 3
   },
   "file_extension": ".py",
   "mimetype": "text/x-python",
   "name": "python",
   "nbconvert_exporter": "python",
   "pygments_lexer": "ipython3",
   "version": "3.11.7"
  }
 },
 "nbformat": 4,
 "nbformat_minor": 5
}
