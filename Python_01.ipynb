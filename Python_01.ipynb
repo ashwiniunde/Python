{
 "cells": [
  {
   "cell_type": "markdown",
   "id": "0a6db52d-74da-41dd-bdcd-d443916c0758",
   "metadata": {},
   "source": [
    "# What is Python?"
   ]
  },
  {
   "cell_type": "raw",
   "id": "fc86efe4-d819-4cd6-a090-70571801dfe3",
   "metadata": {},
   "source": [
    "Python is a high-level, interpreted, object-oriented programming language.\n",
    "It’s super popular because it’s easy to read, write, and learn.\n",
    "Created by Guido van Rossum in 1991\n",
    "Python is implicit lang => no need to declare a data types"
   ]
  },
  {
   "cell_type": "raw",
   "id": "576ce982-277c-420a-ad08-5dfb86485f39",
   "metadata": {},
   "source": [
    "⚡ Key Features of Python\n",
    "\n",
    "Simple & Readable → Looks almost like English.\n",
    "\n",
    "Interpreted → Runs line by line, no need to compile.\n",
    "\n",
    "Dynamically Typed → No need to declare variable type (x = 10 works directly).\n",
    "\n",
    "Object-Oriented → Supports classes and objects.\n",
    "\n",
    "Huge Libraries → For AI, Data Science, Web Dev, etc.\n",
    "\n",
    "Cross-Platform → Runs on Windows, Mac, Linux, etc."
   ]
  },
  {
   "cell_type": "raw",
   "id": "2b50a991-a006-41e2-83cb-1107a394e062",
   "metadata": {},
   "source": [
    "🛠️ Where Python is Used\n",
    "\n",
    "Web Development → Django, Flask\n",
    "\n",
    "Data Science & AI → NumPy, Pandas, TensorFlow\n",
    "\n",
    "Automation & Scripting → Automating boring tasks\n",
    "\n",
    "Game Development → Pygame\n",
    "\n",
    "IoT & Networking → MicroPython"
   ]
  },
  {
   "cell_type": "code",
   "execution_count": 1,
   "id": "5a513da3-0d6a-45a0-b62c-aaed2bb951bb",
   "metadata": {},
   "outputs": [
    {
     "name": "stdout",
     "output_type": "stream",
     "text": [
      "Hello World !!\n"
     ]
    }
   ],
   "source": [
    "print(\"Hello World !!\")"
   ]
  },
  {
   "cell_type": "code",
   "execution_count": 5,
   "id": "5cc9bc04-51bd-42e8-8192-6b12a4496a60",
   "metadata": {},
   "outputs": [],
   "source": [
    "# Variables = A name given to the memory location in program."
   ]
  },
  {
   "cell_type": "code",
   "execution_count": 6,
   "id": "9aa6804f-f8f0-42aa-a75d-f8ce875ef4f1",
   "metadata": {},
   "outputs": [
    {
     "name": "stdout",
     "output_type": "stream",
     "text": [
      "Ashwini\n"
     ]
    }
   ],
   "source": [
    "name=\"Ashwini\"\n",
    "print(name)"
   ]
  },
  {
   "cell_type": "code",
   "execution_count": 7,
   "id": "00913c80-a711-4192-9fd0-f7f3ccd6fb38",
   "metadata": {},
   "outputs": [],
   "source": [
    "age=21\n"
   ]
  },
  {
   "cell_type": "code",
   "execution_count": 8,
   "id": "8d5428f8-2186-40cd-9bda-4598ebda7239",
   "metadata": {},
   "outputs": [
    {
     "data": {
      "text/plain": [
       "21"
      ]
     },
     "execution_count": 8,
     "metadata": {},
     "output_type": "execute_result"
    }
   ],
   "source": [
    "age"
   ]
  },
  {
   "cell_type": "code",
   "execution_count": 18,
   "id": "a2497f28-19f5-4648-be64-8cecf67a2982",
   "metadata": {},
   "outputs": [
    {
     "data": {
      "text/plain": [
       "15.55"
      ]
     },
     "execution_count": 18,
     "metadata": {},
     "output_type": "execute_result"
    }
   ],
   "source": [
    "price=15.55\n",
    "price"
   ]
  },
  {
   "cell_type": "code",
   "execution_count": 9,
   "id": "a0e5fd62-5ff2-4722-bb6b-877bf938790d",
   "metadata": {},
   "outputs": [],
   "source": [
    "salary=50000"
   ]
  },
  {
   "cell_type": "code",
   "execution_count": 10,
   "id": "79bb5539-7c40-46c2-888f-a45263844539",
   "metadata": {},
   "outputs": [
    {
     "data": {
      "text/plain": [
       "50000"
      ]
     },
     "execution_count": 10,
     "metadata": {},
     "output_type": "execute_result"
    }
   ],
   "source": [
    "salary"
   ]
  },
  {
   "cell_type": "code",
   "execution_count": 12,
   "id": "e26e926e-997f-4da6-98d4-19ff5a191478",
   "metadata": {},
   "outputs": [
    {
     "name": "stdout",
     "output_type": "stream",
     "text": [
      "My Name is Ashwini\n"
     ]
    }
   ],
   "source": [
    "print(\"My Name is\",name)"
   ]
  },
  {
   "cell_type": "code",
   "execution_count": 13,
   "id": "1a6c5f69-f7a5-43fc-a121-d27cc3f5facf",
   "metadata": {},
   "outputs": [
    {
     "name": "stdout",
     "output_type": "stream",
     "text": [
      "My age is 21\n"
     ]
    }
   ],
   "source": [
    "print(\"My age is\",age)"
   ]
  },
  {
   "cell_type": "code",
   "execution_count": 21,
   "id": "dc024d4c-727a-4d83-88e5-475290ea2cd9",
   "metadata": {},
   "outputs": [
    {
     "name": "stdout",
     "output_type": "stream",
     "text": [
      "<class 'str'>\n",
      "<class 'int'>\n",
      "<class 'float'>\n"
     ]
    }
   ],
   "source": [
    "# type =>> Built-in function that returns the data type of the value or variable passed to it.\n",
    "print(type(name))\n",
    "print(type(age))\n",
    "print(type(price))"
   ]
  },
  {
   "cell_type": "code",
   "execution_count": 24,
   "id": "173052af-5c21-4ba7-8899-39b53b2c3c37",
   "metadata": {},
   "outputs": [],
   "source": [
    "# Data Types"
   ]
  },
  {
   "cell_type": "raw",
   "id": "10c79f7d-6831-4cf5-b655-cb93d533beef",
   "metadata": {},
   "source": [
    "1.Integer = Whole numbers, positive or negative, without decimals\n",
    "2.String = Sequence of characters enclosed in quotes (' ' or \" \").\n",
    "3.Float = Numbers that have a decimal point\n",
    "4.Boolean =  Represents True or False value\n",
    "5.None = Special data type in Python that represents nothing / absence of value"
   ]
  },
  {
   "cell_type": "raw",
   "id": "4d2d67df-3a97-48ed-b79c-4a8ab295e547",
   "metadata": {},
   "source": [
    "# What are Keywords?\n",
    "Keywords are reserved words in Python.\n",
    "They have special meaning and can’t be used as variable names, function names, or identifiers\n",
    "Ex. => def, if, else, return, True are keywords."
   ]
  },
  {
   "cell_type": "code",
   "execution_count": 26,
   "id": "b248826f-2a0e-4a8f-be09-86f90579abdc",
   "metadata": {},
   "outputs": [
    {
     "name": "stdout",
     "output_type": "stream",
     "text": [
      "7\n"
     ]
    }
   ],
   "source": [
    "# print sum \n",
    "a=2\n",
    "b=5\n",
    "sum=a+b\n",
    "print(sum)"
   ]
  },
  {
   "cell_type": "code",
   "execution_count": 32,
   "id": "6e66cc68-6bec-4639-963f-3b2cb9a8fea0",
   "metadata": {},
   "outputs": [],
   "source": [
    "# Expression Execution"
   ]
  },
  {
   "cell_type": "code",
   "execution_count": 33,
   "id": "f82995b8-3aa6-4847-a35f-49ba63283173",
   "metadata": {},
   "outputs": [
    {
     "name": "stdout",
     "output_type": "stream",
     "text": [
      "AshwiniAshwini\n"
     ]
    }
   ],
   "source": [
    "print(2*name)"
   ]
  },
  {
   "cell_type": "code",
   "execution_count": 34,
   "id": "68f26332-8b4a-468a-a245-b0a864f84b44",
   "metadata": {},
   "outputs": [
    {
     "name": "stdout",
     "output_type": "stream",
     "text": [
      "AshwiniAshwiniAshwiniAshwini\n"
     ]
    }
   ],
   "source": [
    "print(2*name*2)"
   ]
  },
  {
   "cell_type": "code",
   "execution_count": 35,
   "id": "67cc54a7-1d60-42e5-9305-391f42b5f114",
   "metadata": {},
   "outputs": [
    {
     "name": "stdout",
     "output_type": "stream",
     "text": [
      "2Hello\n"
     ]
    }
   ],
   "source": [
    "A=\"2\"\n",
    "txt=\"Hello\"\n",
    "print(A+txt)"
   ]
  },
  {
   "cell_type": "code",
   "execution_count": 36,
   "id": "bce628c1-2b3f-4942-b74a-5e6fcfc7f39e",
   "metadata": {},
   "outputs": [
    {
     "name": "stdout",
     "output_type": "stream",
     "text": [
      "2Hello2Hello2Hello\n"
     ]
    }
   ],
   "source": [
    "A=\"2\"\n",
    "txt=\"Hello\"\n",
    "print((A+txt)*3)"
   ]
  },
  {
   "cell_type": "code",
   "execution_count": 37,
   "id": "30bbf3b8-7e9c-492a-958a-5a169eda2dfa",
   "metadata": {},
   "outputs": [
    {
     "name": "stdout",
     "output_type": "stream",
     "text": [
      "0.0\n"
     ]
    }
   ],
   "source": [
    "c=1.5\n",
    "d=3\n",
    "print(c//d)"
   ]
  },
  {
   "cell_type": "code",
   "execution_count": 38,
   "id": "07c3a4de-bb50-4297-b731-f7047b99448c",
   "metadata": {},
   "outputs": [
    {
     "name": "stdout",
     "output_type": "stream",
     "text": [
      "1\n"
     ]
    }
   ],
   "source": [
    "c=4\n",
    "d=3\n",
    "print(c//d)"
   ]
  },
  {
   "cell_type": "code",
   "execution_count": 40,
   "id": "54781850-4a4f-46d6-98ca-1590858cff15",
   "metadata": {},
   "outputs": [
    {
     "name": "stdout",
     "output_type": "stream",
     "text": [
      "-2\n"
     ]
    }
   ],
   "source": [
    "# Remainder is negative when denominator is negative\n",
    "c=4\n",
    "d=-3\n",
    "print(c//d)"
   ]
  },
  {
   "cell_type": "markdown",
   "id": "37977d63-335e-4244-8cad-712f3b898cea",
   "metadata": {},
   "source": [
    "# Comments in Python \n",
    "#single line comments\n",
    "\n",
    "\"\"\"\n",
    "This is\n",
    "a multi-line\n",
    "comments\n",
    "\"\"\""
   ]
  },
  {
   "cell_type": "code",
   "execution_count": null,
   "id": "5d06b993-8372-4992-a1aa-2a502764d20d",
   "metadata": {},
   "outputs": [],
   "source": []
  },
  {
   "cell_type": "code",
   "execution_count": null,
   "id": "d3400954-45e7-40c5-adda-5d28ee7c235e",
   "metadata": {},
   "outputs": [],
   "source": []
  }
 ],
 "metadata": {
  "kernelspec": {
   "display_name": "Python 3 (ipykernel)",
   "language": "python",
   "name": "python3"
  },
  "language_info": {
   "codemirror_mode": {
    "name": "ipython",
    "version": 3
   },
   "file_extension": ".py",
   "mimetype": "text/x-python",
   "name": "python",
   "nbconvert_exporter": "python",
   "pygments_lexer": "ipython3",
   "version": "3.11.7"
  }
 },
 "nbformat": 4,
 "nbformat_minor": 5
}
