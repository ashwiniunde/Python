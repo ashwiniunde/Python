{
 "cells": [
  {
   "cell_type": "markdown",
   "id": "c62b659d-6f3f-48a9-a4ca-3541af4d93ca",
   "metadata": {},
   "source": [
    "# String "
   ]
  },
  {
   "cell_type": "code",
   "execution_count": null,
   "id": "c6ff6372-797e-4578-a003-c7afb471ecdd",
   "metadata": {},
   "outputs": [],
   "source": [
    "# String => String is data type that stores a sequence of characters."
   ]
  },
  {
   "cell_type": "code",
   "execution_count": 6,
   "id": "ac621d07-5216-4839-85b6-2a2ae161a863",
   "metadata": {},
   "outputs": [],
   "source": [
    "s1 = 'Hello'\n",
    "s2 = \"World\"\n",
    "s3 = '''This is string.'''\n"
   ]
  },
  {
   "cell_type": "code",
   "execution_count": 3,
   "id": "e080311c-11ff-43d1-aa3d-bf5850929b2f",
   "metadata": {},
   "outputs": [
    {
     "data": {
      "text/plain": [
       "'Hello'"
      ]
     },
     "execution_count": 3,
     "metadata": {},
     "output_type": "execute_result"
    }
   ],
   "source": [
    "s1"
   ]
  },
  {
   "cell_type": "code",
   "execution_count": 4,
   "id": "edf27704-b536-4500-88a1-b7099b5f3cac",
   "metadata": {},
   "outputs": [
    {
     "data": {
      "text/plain": [
       "'World'"
      ]
     },
     "execution_count": 4,
     "metadata": {},
     "output_type": "execute_result"
    }
   ],
   "source": [
    "s2"
   ]
  },
  {
   "cell_type": "code",
   "execution_count": 7,
   "id": "c04822d3-0ae5-4ff5-9b6f-b7f6bd7c31e9",
   "metadata": {},
   "outputs": [
    {
     "data": {
      "text/plain": [
       "'This is string.'"
      ]
     },
     "execution_count": 7,
     "metadata": {},
     "output_type": "execute_result"
    }
   ],
   "source": [
    "s3"
   ]
  },
  {
   "cell_type": "markdown",
   "id": "3e4e8563-5c7b-4484-a8df-635a015f41a5",
   "metadata": {},
   "source": [
    "# String Operations"
   ]
  },
  {
   "cell_type": "code",
   "execution_count": 10,
   "id": "efc38eb1-a320-4f07-b2f0-2f6078b1bb44",
   "metadata": {},
   "outputs": [
    {
     "name": "stdout",
     "output_type": "stream",
     "text": [
      "Ashwini Unde\n"
     ]
    }
   ],
   "source": [
    "# 1.Concatenation\n",
    "str1= \"Ashwini\"\n",
    "str2= \" Unde\"\n",
    "print(str1+str2)"
   ]
  },
  {
   "cell_type": "code",
   "execution_count": 13,
   "id": "b1fb668c-4b33-460d-a940-f976487f4f1c",
   "metadata": {},
   "outputs": [
    {
     "name": "stdout",
     "output_type": "stream",
     "text": [
      "Hello World\n"
     ]
    }
   ],
   "source": [
    "a = \"Hello\"\n",
    "b = \"World\"\n",
    "print(a + \" \" + b)   # Hello World\n"
   ]
  },
  {
   "cell_type": "code",
   "execution_count": 11,
   "id": "7a7a5ce3-2829-478e-8da5-e5ae1c59b5e7",
   "metadata": {},
   "outputs": [
    {
     "name": "stdout",
     "output_type": "stream",
     "text": [
      "Hi! Hi! Hi! \n"
     ]
    }
   ],
   "source": [
    "# 2.Repetition\n",
    "print(\"Hi! \" * 3)   # Hi! Hi! Hi!\n"
   ]
  },
  {
   "cell_type": "code",
   "execution_count": 12,
   "id": "908a573a-096f-471e-9333-331657ee07c2",
   "metadata": {},
   "outputs": [
    {
     "name": "stdout",
     "output_type": "stream",
     "text": [
      "7\n"
     ]
    }
   ],
   "source": [
    "# 3.len\n",
    "print(len(str1))  "
   ]
  },
  {
   "cell_type": "code",
   "execution_count": 14,
   "id": "5e34ebab-4e03-496c-bbe1-7ad9db73a61d",
   "metadata": {},
   "outputs": [
    {
     "name": "stdout",
     "output_type": "stream",
     "text": [
      "True\n",
      "True\n"
     ]
    }
   ],
   "source": [
    "# 4.Membership\n",
    "msg = \"Python is cool\"\n",
    "print(\"Python\" in msg)     # True\n",
    "print(\"Java\" not in msg)   # True\n"
   ]
  },
  {
   "cell_type": "code",
   "execution_count": 15,
   "id": "e78bbcc0-e440-4da0-8c92-abb5b64c7249",
   "metadata": {},
   "outputs": [],
   "source": [
    "# What is Indexing?\n",
    "\n",
    "# Indexing means accessing individual elements of a sequence (like string, list, or tuple)\n",
    "# using their position number."
   ]
  },
  {
   "cell_type": "code",
   "execution_count": 16,
   "id": "dbcff8f6-ebbb-4cd7-86ab-7bc0b3ead946",
   "metadata": {},
   "outputs": [
    {
     "name": "stdout",
     "output_type": "stream",
     "text": [
      "P\n",
      "Y\n",
      "N\n",
      "N\n",
      "O\n"
     ]
    }
   ],
   "source": [
    "text = \"PYTHON\"\n",
    "\n",
    "print(text[0])   # P  (first character)\n",
    "print(text[1])   # Y  (second character)\n",
    "print(text[5])   # N  (last character)\n",
    "print(text[-1])  # N  (negative index → last)\n",
    "print(text[-2])  # O  (second last)\n"
   ]
  },
  {
   "cell_type": "code",
   "execution_count": 32,
   "id": "238d0792-2afb-4f3e-a423-eb208a009a32",
   "metadata": {},
   "outputs": [
    {
     "name": "stdout",
     "output_type": "stream",
     "text": [
      "Ashwini Unde\n",
      "Ashwini Unde\n",
      "Ashwini \n",
      "Unde\n",
      "Ashwini Unde\n",
      "Ashwini \n",
      "Ashwini\n",
      "Unde\n",
      "Ahii\n",
      "AhiiUd\n",
      "ednU iniwhsA\n"
     ]
    }
   ],
   "source": [
    "# Slicing => accessing parts of a string\n",
    "#string[start : stop : step]\n",
    "string = \"Ashwini Unde\"\n",
    "print(string[:])\n",
    "print(string[::])\n",
    "print(string[0:8])\n",
    "print(string[8:])\n",
    "print(string[0:])\n",
    "print(string[:8])\n",
    "print(string[:-5])\n",
    "print(string[-4:])\n",
    "print(string[0:8:2])\n",
    "print(string[::2]) #every 2nd char\n",
    "print(string[::-1]) # reverse string"
   ]
  },
  {
   "cell_type": "code",
   "execution_count": 33,
   "id": "c3c43888-310c-473e-bce3-e278256b83ac",
   "metadata": {},
   "outputs": [],
   "source": [
    "# String Functions/Methods"
   ]
  },
  {
   "cell_type": "code",
   "execution_count": 36,
   "id": "aa162b7d-fe9f-4f3e-b7d6-b8b404c76b9e",
   "metadata": {},
   "outputs": [
    {
     "name": "stdout",
     "output_type": "stream",
     "text": [
      "PYTHON PROGRAMMING\n",
      "python programming\n",
      "Python programming\n",
      "Python Programming\n",
      "PYTHON pROGRAMMING\n"
     ]
    }
   ],
   "source": [
    "# 1. Case Conversion\n",
    "s = \"python Programming\"\n",
    "\n",
    "print(s.upper())      # 'PYTHON PROGRAMMING'\n",
    "print(s.lower())      # 'python programming'\n",
    "print(s.capitalize()) # 'Python programming'\n",
    "print(s.title())      # 'Python Programming'\n",
    "print(s.swapcase())   # 'PYTHON pROGRAMMING'\n"
   ]
  },
  {
   "cell_type": "code",
   "execution_count": 37,
   "id": "87023892-1c69-4c0a-97ec-3fa449551b4b",
   "metadata": {},
   "outputs": [
    {
     "name": "stdout",
     "output_type": "stream",
     "text": [
      "False\n",
      "True\n",
      "False\n",
      "True\n",
      "True\n",
      "True\n"
     ]
    }
   ],
   "source": [
    "# 2. Checking Content\n",
    "s = \"Python123\"\n",
    "\n",
    "print(s.isalpha())   # False (letters only?)\n",
    "print(\"Python\".isalpha()) # True\n",
    "print(s.isdigit())   # False\n",
    "print(\"123\".isdigit()) # True\n",
    "print(s.isalnum())   # True (letters + digits)\n",
    "print(\" \".isspace()) # True\n"
   ]
  },
  {
   "cell_type": "code",
   "execution_count": 41,
   "id": "b369a92d-fedc-4bfb-becd-952c62634da3",
   "metadata": {},
   "outputs": [
    {
     "name": "stdout",
     "output_type": "stream",
     "text": [
      "7\n",
      "12\n",
      "10\n",
      "2\n"
     ]
    }
   ],
   "source": [
    "# 3. Searching & Finding\n",
    "s = \"Python is fun\"\n",
    "\n",
    "print(s.find(\"is\"))     # 7 (first index)\n",
    "print(s.rfind(\"n\"))     # 12 (last index of 'n')\n",
    "print(s.index(\"fun\"))   # 10\n",
    "# print(s.index(\"Java\")) # Error if not found\n",
    "print(s.count(\"n\"))     # 2\n"
   ]
  },
  {
   "cell_type": "code",
   "execution_count": 44,
   "id": "6ac4a50a-8eec-4b38-a623-ff24ab723d65",
   "metadata": {},
   "outputs": [
    {
     "name": "stdout",
     "output_type": "stream",
     "text": [
      "I like Java\n"
     ]
    }
   ],
   "source": [
    "# 4. Replace & Modify\n",
    "s = \"I like Python\"\n",
    "print(s.replace(\"Python\", \"Java\"))  # I like Java\n",
    "\n"
   ]
  },
  {
   "cell_type": "code",
   "execution_count": 45,
   "id": "ffbdf882-8a1f-4ac4-8d2f-492a9a25e330",
   "metadata": {},
   "outputs": [
    {
     "name": "stdout",
     "output_type": "stream",
     "text": [
      "hello\n",
      "hello   \n",
      "   hello\n"
     ]
    }
   ],
   "source": [
    "#5. Trimming / Stripping\n",
    "s = \"   hello   \"\n",
    "print(s.strip())   # 'hello' (removes spaces)\n",
    "print(s.lstrip())  # 'hello   '\n",
    "print(s.rstrip())  # '   hello'\n"
   ]
  },
  {
   "cell_type": "code",
   "execution_count": 46,
   "id": "db8d4732-699a-4d6b-bff5-d6c1e21af4e8",
   "metadata": {},
   "outputs": [
    {
     "name": "stdout",
     "output_type": "stream",
     "text": [
      "True\n",
      "True\n"
     ]
    }
   ],
   "source": [
    "s = \"Python programming\"\n",
    "print(s.startswith(\"Py\"))  # True\n",
    "print(s.endswith(\"ing\"))   # True\n"
   ]
  },
  {
   "cell_type": "code",
   "execution_count": null,
   "id": "9dbadc32-833f-463c-8be6-15a14da6ec07",
   "metadata": {},
   "outputs": [],
   "source": []
  }
 ],
 "metadata": {
  "kernelspec": {
   "display_name": "Python 3 (ipykernel)",
   "language": "python",
   "name": "python3"
  },
  "language_info": {
   "codemirror_mode": {
    "name": "ipython",
    "version": 3
   },
   "file_extension": ".py",
   "mimetype": "text/x-python",
   "name": "python",
   "nbconvert_exporter": "python",
   "pygments_lexer": "ipython3",
   "version": "3.11.7"
  }
 },
 "nbformat": 4,
 "nbformat_minor": 5
}
